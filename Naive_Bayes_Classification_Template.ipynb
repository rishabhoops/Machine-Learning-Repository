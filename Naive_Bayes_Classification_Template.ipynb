{
  "nbformat": 4,
  "nbformat_minor": 0,
  "metadata": {
    "colab": {
      "provenance": [],
      "include_colab_link": true
    },
    "kernelspec": {
      "name": "python3",
      "display_name": "Python 3"
    }
  },
  "cells": [
    {
      "cell_type": "markdown",
      "metadata": {
        "id": "view-in-github",
        "colab_type": "text"
      },
      "source": [
        "<a href=\"https://colab.research.google.com/github/rishabhoops/Machine-Learning-Repository/blob/main/Naive_Bayes_Classification_Template.ipynb\" target=\"_parent\"><img src=\"https://colab.research.google.com/assets/colab-badge.svg\" alt=\"Open In Colab\"/></a>"
      ]
    },
    {
      "cell_type": "markdown",
      "metadata": {
        "id": "Z-jZGC0q0aiY"
      },
      "source": [
        "# Naive Bayes"
      ]
    },
    {
      "cell_type": "markdown",
      "metadata": {
        "id": "jE4Rc_OO0eJM"
      },
      "source": [
        "## Importing libraries"
      ]
    },
    {
      "cell_type": "code",
      "source": [
        "import numpy as np\n",
        "import matplotlib.pyplot as plt\n",
        "import pandas as pd"
      ],
      "metadata": {
        "id": "src-bITASElh"
      },
      "execution_count": 2,
      "outputs": []
    },
    {
      "cell_type": "markdown",
      "metadata": {
        "id": "A9-xGHd20gY1"
      },
      "source": [
        "## Importing dataset"
      ]
    },
    {
      "cell_type": "code",
      "source": [
        "dataset =pd.read_csv(\"/content/Instagram Ads Naive Bayes.csv\")\n",
        "x=dataset.iloc[:,:-1].values\n",
        "y=dataset.iloc[:,-1].values"
      ],
      "metadata": {
        "id": "_LQIX5NlSMvr"
      },
      "execution_count": 3,
      "outputs": []
    },
    {
      "cell_type": "code",
      "source": [
        "print(x)"
      ],
      "metadata": {
        "colab": {
          "base_uri": "https://localhost:8080/"
        },
        "id": "ZfKoA5K8SmpY",
        "outputId": "f8701adb-8335-4117-902e-7315885774bf"
      },
      "execution_count": 4,
      "outputs": [
        {
          "output_type": "stream",
          "name": "stdout",
          "text": [
            "[[   15  6334]\n",
            " [   28  6667]\n",
            " [   20 14334]\n",
            " [   21 19000]\n",
            " [   15 25334]\n",
            " [   21 19334]\n",
            " [   21 28000]\n",
            " [   25 50000]\n",
            " [   20 11000]\n",
            " [   28 21667]\n",
            " [   20 26667]\n",
            " [   26 17000]\n",
            " [   28 36000]\n",
            " [   18  6667]\n",
            " [   20 26334]\n",
            " [   21 18000]\n",
            " [   24 45000]\n",
            " [   24 29667]\n",
            " [   19 10667]\n",
            " [   14 14667]\n",
            " [   23 27667]\n",
            " [   28  7667]\n",
            " [   21 19334]\n",
            " [   19 18334]\n",
            " [   18 16000]\n",
            " [   22 26334]\n",
            " [   17  6000]\n",
            " [   25 39000]\n",
            " [   21  6667]\n",
            " [   20 29000]\n",
            " [   18 22000]\n",
            " [   25 40000]\n",
            " [   17 21000]\n",
            " [   24 22667]\n",
            " [   20 26667]\n",
            " [   19  9000]\n",
            " [   16  7667]\n",
            " [   26 37667]\n",
            " [   25  6000]\n",
            " [   27 37334]\n",
            " [   24 38667]\n",
            " [   20  5000]\n",
            " [   23  9334]\n",
            " [   23 27667]\n",
            " [   26 49667]\n",
            " [   15  7000]\n",
            " [   16 24000]\n",
            " [   20 11667]\n",
            " [   21 29667]\n",
            " [   20 28667]\n",
            " [   30 26667]\n",
            " [   31 23667]\n",
            " [   29 23667]\n",
            " [   20 30000]\n",
            " [   29 11000]\n",
            " [   17 18334]\n",
            " [   28 23667]\n",
            " [   23 49334]\n",
            " [   23 15667]\n",
            " [   16 29334]\n",
            " [   27 38334]\n",
            " [   20 39334]\n",
            " [   27 14334]\n",
            " [   27 24000]\n",
            " [   18  9334]\n",
            " [   28 15667]\n",
            " [   20  7334]\n",
            " [   19  7667]\n",
            " [   16 27334]\n",
            " [   26 13667]\n",
            " [   22 10667]\n",
            " [   19 28000]\n",
            " [   15  8667]\n",
            " [   23 14334]\n",
            " [   15 23334]\n",
            " [   22 29667]\n",
            " [   27 14334]\n",
            " [   24 26334]\n",
            " [   16 12000]\n",
            " [   20 26667]\n",
            " [   28  7334]\n",
            " [   28 13000]\n",
            " [   39 24667]\n",
            " [   31 44667]\n",
            " [   32 23667]\n",
            " [   46 33667]\n",
            " [   37 15667]\n",
            " [   44 43334]\n",
            " [   41 38000]\n",
            " [   32 47334]\n",
            " [   36  7334]\n",
            " [   38 32000]\n",
            " [   41 50000]\n",
            " [   28 19334]\n",
            " [   37 14334]\n",
            " [   48 36000]\n",
            " [   39 21667]\n",
            " [   32 26000]\n",
            " [   36 32000]\n",
            " [   47 47667]\n",
            " [   32 26667]\n",
            " [   28 30334]\n",
            " [   29 48000]\n",
            " [   48 34000]\n",
            " [   28 20000]\n",
            " [   29 17667]\n",
            " [   28 42000]\n",
            " [   44 44334]\n",
            " [   32 24000]\n",
            " [   33 26667]\n",
            " [   28 49000]\n",
            " [   31 14000]\n",
            " [   39 28667]\n",
            " [   36 26334]\n",
            " [   29 26667]\n",
            " [   36 27334]\n",
            " [   42 47667]\n",
            " [   33 49667]\n",
            " [   30 19667]\n",
            " [   40 29334]\n",
            " [   44 34667]\n",
            " [   32 24000]\n",
            " [   28 16667]\n",
            " [   45 40667]\n",
            " [   32 17334]\n",
            " [   28 32334]\n",
            " [   35 13000]\n",
            " [   29 17334]\n",
            " [   38 44667]\n",
            " [   29 48667]\n",
            " [   41 30000]\n",
            " [   32 24000]\n",
            " [   32 19000]\n",
            " [   46 31667]\n",
            " [   36 43667]\n",
            " [   28 48000]\n",
            " [   28 24000]\n",
            " [   38 30000]\n",
            " [   33 36000]\n",
            " [   32 25000]\n",
            " [   37 48000]\n",
            " [   32 20334]\n",
            " [   34 44334]\n",
            " [   47 25334]\n",
            " [   48 14000]\n",
            " [   31 35334]\n",
            " [   45  8667]\n",
            " [   45 24667]\n",
            " [   30 23667]\n",
            " [   39 29334]\n",
            " [   41 12667]\n",
            " [   40 12000]\n",
            " [   47 29334]\n",
            " [   28 20334]\n",
            " [   29 23334]\n",
            " [   41  7000]\n",
            " [   38 47000]\n",
            " [   29 31000]\n",
            " [   29 20667]\n",
            " [   38 46000]\n",
            " [   32 26334]\n",
            " [   29 26000]\n",
            " [   31 44667]\n",
            " [   39 29667]\n",
            " [   44 13000]\n",
            " [   29 25667]\n",
            " [   28 21000]\n",
            " [   33 24334]\n",
            " [   36 39000]\n",
            " [   38 24667]\n",
            " [   29 26334]\n",
            " [   32 20000]\n",
            " [   37 37667]\n",
            " [   30 16667]\n",
            " [   39 47000]\n",
            " [   31 26334]\n",
            " [   31 25000]\n",
            " [   43 34667]\n",
            " [   28 18334]\n",
            " [   36 10667]\n",
            " [   28 20000]\n",
            " [   41 46000]\n",
            " [   42 27334]\n",
            " [   32 17334]\n",
            " [   38 10000]\n",
            " [   38 43667]\n",
            " [   32 24000]\n",
            " [   37 35667]\n",
            " [   30 17000]\n",
            " [   38 39667]\n",
            " [   33 21667]\n",
            " [   32 21667]\n",
            " [   45 20000]\n",
            " [   28 18000]\n",
            " [   28 26334]\n",
            " [   34 43000]\n",
            " [   42 11334]\n",
            " [   37 16667]\n",
            " [   33 26334]]\n"
          ]
        }
      ]
    },
    {
      "cell_type": "code",
      "source": [
        "print(y)"
      ],
      "metadata": {
        "colab": {
          "base_uri": "https://localhost:8080/"
        },
        "id": "J0LMa_zaSpJw",
        "outputId": "39963897-5b69-4272-a20d-cb937a15bb62"
      },
      "execution_count": 5,
      "outputs": [
        {
          "output_type": "stream",
          "name": "stdout",
          "text": [
            "[0 0 0 0 0 0 0 1 0 0 0 0 0 0 0 0 1 0 0 0 0 0 0 0 0 0 0 0 0 0 0 1 0 0 0 0 0\n",
            " 0 0 1 0 0 0 0 1 0 0 0 0 0 0 0 0 0 0 0 0 1 0 0 0 0 0 0 0 0 0 0 0 0 0 0 0 0\n",
            " 0 0 0 0 0 0 0 0 0 1 0 1 0 1 0 1 0 1 1 0 0 1 0 0 0 1 0 1 1 1 0 0 1 1 0 1 1\n",
            " 0 1 1 0 0 1 1 0 1 1 0 0 1 0 1 0 0 1 1 1 0 0 1 1 1 0 1 1 0 1 0 0 1 1 1 1 1\n",
            " 0 1 1 1 1 0 1 1 0 1 0 1 0 1 1 1 1 0 0 1 1 1 1 0 1 0 1 0 1 1 0 1 0 1 1 0 1\n",
            " 1 0 1 0 1 0 0 1 0 0 1 1 1 0]\n"
          ]
        }
      ]
    },
    {
      "cell_type": "markdown",
      "metadata": {
        "id": "8REFJFGC0lRN"
      },
      "source": [
        "## Splitting the dataset into Training & Test set"
      ]
    },
    {
      "cell_type": "code",
      "source": [
        "from sklearn.model_selection import train_test_split\n",
        "x_train,x_test,y_train,y_test=train_test_split(x,y,test_size=0.3,random_state=21)"
      ],
      "metadata": {
        "id": "-RbH4JnnSr0G"
      },
      "execution_count": 6,
      "outputs": []
    },
    {
      "cell_type": "code",
      "source": [
        "print(x_train)"
      ],
      "metadata": {
        "colab": {
          "base_uri": "https://localhost:8080/"
        },
        "id": "WLVTBzakTFeW",
        "outputId": "b47e7a24-803a-474f-a9d3-c7495f607a37"
      },
      "execution_count": 9,
      "outputs": [
        {
          "output_type": "stream",
          "name": "stdout",
          "text": [
            "[[   31 44667]\n",
            " [   26 49667]\n",
            " [   36 27334]\n",
            " [   32 17334]\n",
            " [   29 20667]\n",
            " [   28 20000]\n",
            " [   25 50000]\n",
            " [   48 36000]\n",
            " [   41  7000]\n",
            " [   39 47000]\n",
            " [   37 48000]\n",
            " [   38 10000]\n",
            " [   44 13000]\n",
            " [   41 38000]\n",
            " [   28 20334]\n",
            " [   33 26334]\n",
            " [   15  6334]\n",
            " [   32 26334]\n",
            " [   20 26667]\n",
            " [   29 17334]\n",
            " [   28 18000]\n",
            " [   16 27334]\n",
            " [   32 26000]\n",
            " [   20 26667]\n",
            " [   32 20000]\n",
            " [   32 20334]\n",
            " [   37 35667]\n",
            " [   45 20000]\n",
            " [   38 39667]\n",
            " [   20  5000]\n",
            " [   36 10667]\n",
            " [   34 44334]\n",
            " [   16 24000]\n",
            " [   25  6000]\n",
            " [   37 14334]\n",
            " [   21 19000]\n",
            " [   20 29000]\n",
            " [   23 14334]\n",
            " [   40 12000]\n",
            " [   42 47667]\n",
            " [   16  7667]\n",
            " [   17 18334]\n",
            " [   24 26334]\n",
            " [   28 20000]\n",
            " [   26 17000]\n",
            " [   32 25000]\n",
            " [   20 28667]\n",
            " [   41 46000]\n",
            " [   20 26667]\n",
            " [   28 15667]\n",
            " [   45 40667]\n",
            " [   19  7667]\n",
            " [   28 13000]\n",
            " [   32 47334]\n",
            " [   28 19334]\n",
            " [   15 23334]\n",
            " [   37 15667]\n",
            " [   39 29334]\n",
            " [   25 40000]\n",
            " [   17 21000]\n",
            " [   29 31000]\n",
            " [   45  8667]\n",
            " [   25 39000]\n",
            " [   28 32334]\n",
            " [   31 23667]\n",
            " [   28  6667]\n",
            " [   47 47667]\n",
            " [   24 45000]\n",
            " [   36 26334]\n",
            " [   23 49334]\n",
            " [   38 46000]\n",
            " [   31 25000]\n",
            " [   38 47000]\n",
            " [   39 21667]\n",
            " [   27 37334]\n",
            " [   43 34667]\n",
            " [   30 16667]\n",
            " [   20 11667]\n",
            " [   18  9334]\n",
            " [   44 44334]\n",
            " [   35 13000]\n",
            " [   22 26334]\n",
            " [   18 16000]\n",
            " [   48 34000]\n",
            " [   23 15667]\n",
            " [   20 11000]\n",
            " [   24 22667]\n",
            " [   19 28000]\n",
            " [   32 24000]\n",
            " [   20  7334]\n",
            " [   27 24000]\n",
            " [   29 26334]\n",
            " [   32 24000]\n",
            " [   29 23334]\n",
            " [   18 22000]\n",
            " [   27 14334]\n",
            " [   32 19000]\n",
            " [   30 19667]\n",
            " [   26 13667]\n",
            " [   28 18334]\n",
            " [   38 44667]\n",
            " [   33 26667]\n",
            " [   38 30000]\n",
            " [   21  6667]\n",
            " [   36  7334]\n",
            " [   36 43667]\n",
            " [   21 18000]\n",
            " [   39 24667]\n",
            " [   28 36000]\n",
            " [   29 26000]\n",
            " [   34 43000]\n",
            " [   19  9000]\n",
            " [   28  7334]\n",
            " [   21 19334]\n",
            " [   20 30000]\n",
            " [   38 43667]\n",
            " [   30 26667]\n",
            " [   19 10667]\n",
            " [   46 31667]\n",
            " [   38 24667]\n",
            " [   40 29334]\n",
            " [   30 23667]\n",
            " [   16 29334]\n",
            " [   32 23667]\n",
            " [   32 26667]\n",
            " [   42 11334]\n",
            " [   28 16667]\n",
            " [   20 39334]\n",
            " [   37 37667]\n",
            " [   28 49000]\n",
            " [   15  8667]\n",
            " [   36 32000]\n",
            " [   30 17000]\n",
            " [   39 29667]\n",
            " [   44 34667]\n",
            " [   39 28667]\n",
            " [   21 29667]\n",
            " [   15 25334]\n",
            " [   28 23667]]\n"
          ]
        }
      ]
    },
    {
      "cell_type": "code",
      "source": [
        "print(x_test)"
      ],
      "metadata": {
        "colab": {
          "base_uri": "https://localhost:8080/"
        },
        "id": "cboN31L2TQLT",
        "outputId": "19359793-08b8-42d9-f1e4-220561b0ccf0"
      },
      "execution_count": 10,
      "outputs": [
        {
          "output_type": "stream",
          "name": "stdout",
          "text": [
            "[[   48 14000]\n",
            " [   28 21667]\n",
            " [   24 29667]\n",
            " [   23 27667]\n",
            " [   15  7000]\n",
            " [   21 28000]\n",
            " [   29 23667]\n",
            " [   38 32000]\n",
            " [   29 48667]\n",
            " [   42 27334]\n",
            " [   28  7667]\n",
            " [   23  9334]\n",
            " [   29 17667]\n",
            " [   31 35334]\n",
            " [   44 43334]\n",
            " [   47 29334]\n",
            " [   32 17334]\n",
            " [   41 50000]\n",
            " [   28 30334]\n",
            " [   18  6667]\n",
            " [   32 24000]\n",
            " [   22 29667]\n",
            " [   24 38667]\n",
            " [   37 16667]\n",
            " [   33 21667]\n",
            " [   32 21667]\n",
            " [   31 44667]\n",
            " [   33 49667]\n",
            " [   20 14334]\n",
            " [   32 24000]\n",
            " [   14 14667]\n",
            " [   47 25334]\n",
            " [   45 24667]\n",
            " [   21 19334]\n",
            " [   29 48000]\n",
            " [   27 38334]\n",
            " [   28 24000]\n",
            " [   33 24334]\n",
            " [   33 36000]\n",
            " [   29 11000]\n",
            " [   31 26334]\n",
            " [   31 14000]\n",
            " [   29 26667]\n",
            " [   20 26334]\n",
            " [   28 42000]\n",
            " [   46 33667]\n",
            " [   28 21000]\n",
            " [   28 26334]\n",
            " [   17  6000]\n",
            " [   28 48000]\n",
            " [   16 12000]\n",
            " [   41 12667]\n",
            " [   22 10667]\n",
            " [   36 39000]\n",
            " [   26 37667]\n",
            " [   27 14334]\n",
            " [   29 25667]\n",
            " [   23 27667]\n",
            " [   19 18334]\n",
            " [   41 30000]]\n"
          ]
        }
      ]
    },
    {
      "cell_type": "code",
      "source": [
        "print(y_train)"
      ],
      "metadata": {
        "colab": {
          "base_uri": "https://localhost:8080/"
        },
        "id": "6X-5hajMTTRf",
        "outputId": "564142c6-1e02-429e-8e8a-89062c67bc2c"
      },
      "execution_count": 11,
      "outputs": [
        {
          "output_type": "stream",
          "name": "stdout",
          "text": [
            "[1 1 0 0 0 0 1 1 1 1 1 1 1 0 0 0 0 0 0 0 0 0 0 0 0 0 1 1 1 0 1 0 0 0 0 0 0\n",
            " 0 1 1 0 0 0 0 0 0 0 1 0 0 1 0 0 1 0 0 0 1 1 0 1 1 0 1 0 0 1 1 1 1 1 1 0 0\n",
            " 1 1 0 0 0 1 0 0 0 1 0 0 0 0 0 0 0 1 0 1 0 0 0 0 0 0 1 1 1 0 0 1 0 0 0 1 1\n",
            " 0 0 0 0 1 0 0 1 1 1 0 0 0 0 1 0 0 1 1 0 0 0 1 1 1 0 0 0]\n"
          ]
        }
      ]
    },
    {
      "cell_type": "code",
      "source": [
        "print(y_test)"
      ],
      "metadata": {
        "colab": {
          "base_uri": "https://localhost:8080/"
        },
        "id": "1DRx3QNbTXeC",
        "outputId": "84465596-5565-413d-a4eb-a3ac6231fb57"
      },
      "execution_count": 12,
      "outputs": [
        {
          "output_type": "stream",
          "name": "stdout",
          "text": [
            "[1 0 0 0 0 0 0 1 1 1 0 0 0 1 1 1 0 1 1 0 0 0 0 1 0 0 1 1 0 0 0 1 1 0 1 0 0\n",
            " 1 1 0 0 0 0 0 1 1 0 0 0 1 0 1 0 1 0 0 0 0 0 1]\n"
          ]
        }
      ]
    },
    {
      "cell_type": "markdown",
      "metadata": {
        "id": "-Dw4Khi70u9g"
      },
      "source": [
        "## Feature Scaling"
      ]
    },
    {
      "cell_type": "code",
      "source": [
        "from sklearn.preprocessing import StandardScaler\n",
        "sc=StandardScaler()\n",
        "x_train=sc.fit_transform(x_train)\n",
        "x_test=sc.transform(x_test)"
      ],
      "metadata": {
        "id": "opHmu-SvTal-"
      },
      "execution_count": 13,
      "outputs": []
    },
    {
      "cell_type": "markdown",
      "metadata": {
        "id": "2QUFYaoH00H6"
      },
      "source": [
        "## Naive Bayes Training on Training set"
      ]
    },
    {
      "cell_type": "code",
      "source": [
        "from sklearn.naive_bayes import GaussianNB\n",
        "classifier= GaussianNB()\n",
        "classifier.fit(x_train,y_train)"
      ],
      "metadata": {
        "colab": {
          "base_uri": "https://localhost:8080/",
          "height": 75
        },
        "id": "V3FIeY3vUyJZ",
        "outputId": "4eff67e8-63b4-42fd-d8fa-1ec3610d0b10"
      },
      "execution_count": 14,
      "outputs": [
        {
          "output_type": "execute_result",
          "data": {
            "text/plain": [
              "GaussianNB()"
            ],
            "text/html": [
              "<style>#sk-container-id-1 {color: black;background-color: white;}#sk-container-id-1 pre{padding: 0;}#sk-container-id-1 div.sk-toggleable {background-color: white;}#sk-container-id-1 label.sk-toggleable__label {cursor: pointer;display: block;width: 100%;margin-bottom: 0;padding: 0.3em;box-sizing: border-box;text-align: center;}#sk-container-id-1 label.sk-toggleable__label-arrow:before {content: \"▸\";float: left;margin-right: 0.25em;color: #696969;}#sk-container-id-1 label.sk-toggleable__label-arrow:hover:before {color: black;}#sk-container-id-1 div.sk-estimator:hover label.sk-toggleable__label-arrow:before {color: black;}#sk-container-id-1 div.sk-toggleable__content {max-height: 0;max-width: 0;overflow: hidden;text-align: left;background-color: #f0f8ff;}#sk-container-id-1 div.sk-toggleable__content pre {margin: 0.2em;color: black;border-radius: 0.25em;background-color: #f0f8ff;}#sk-container-id-1 input.sk-toggleable__control:checked~div.sk-toggleable__content {max-height: 200px;max-width: 100%;overflow: auto;}#sk-container-id-1 input.sk-toggleable__control:checked~label.sk-toggleable__label-arrow:before {content: \"▾\";}#sk-container-id-1 div.sk-estimator input.sk-toggleable__control:checked~label.sk-toggleable__label {background-color: #d4ebff;}#sk-container-id-1 div.sk-label input.sk-toggleable__control:checked~label.sk-toggleable__label {background-color: #d4ebff;}#sk-container-id-1 input.sk-hidden--visually {border: 0;clip: rect(1px 1px 1px 1px);clip: rect(1px, 1px, 1px, 1px);height: 1px;margin: -1px;overflow: hidden;padding: 0;position: absolute;width: 1px;}#sk-container-id-1 div.sk-estimator {font-family: monospace;background-color: #f0f8ff;border: 1px dotted black;border-radius: 0.25em;box-sizing: border-box;margin-bottom: 0.5em;}#sk-container-id-1 div.sk-estimator:hover {background-color: #d4ebff;}#sk-container-id-1 div.sk-parallel-item::after {content: \"\";width: 100%;border-bottom: 1px solid gray;flex-grow: 1;}#sk-container-id-1 div.sk-label:hover label.sk-toggleable__label {background-color: #d4ebff;}#sk-container-id-1 div.sk-serial::before {content: \"\";position: absolute;border-left: 1px solid gray;box-sizing: border-box;top: 0;bottom: 0;left: 50%;z-index: 0;}#sk-container-id-1 div.sk-serial {display: flex;flex-direction: column;align-items: center;background-color: white;padding-right: 0.2em;padding-left: 0.2em;position: relative;}#sk-container-id-1 div.sk-item {position: relative;z-index: 1;}#sk-container-id-1 div.sk-parallel {display: flex;align-items: stretch;justify-content: center;background-color: white;position: relative;}#sk-container-id-1 div.sk-item::before, #sk-container-id-1 div.sk-parallel-item::before {content: \"\";position: absolute;border-left: 1px solid gray;box-sizing: border-box;top: 0;bottom: 0;left: 50%;z-index: -1;}#sk-container-id-1 div.sk-parallel-item {display: flex;flex-direction: column;z-index: 1;position: relative;background-color: white;}#sk-container-id-1 div.sk-parallel-item:first-child::after {align-self: flex-end;width: 50%;}#sk-container-id-1 div.sk-parallel-item:last-child::after {align-self: flex-start;width: 50%;}#sk-container-id-1 div.sk-parallel-item:only-child::after {width: 0;}#sk-container-id-1 div.sk-dashed-wrapped {border: 1px dashed gray;margin: 0 0.4em 0.5em 0.4em;box-sizing: border-box;padding-bottom: 0.4em;background-color: white;}#sk-container-id-1 div.sk-label label {font-family: monospace;font-weight: bold;display: inline-block;line-height: 1.2em;}#sk-container-id-1 div.sk-label-container {text-align: center;}#sk-container-id-1 div.sk-container {/* jupyter's `normalize.less` sets `[hidden] { display: none; }` but bootstrap.min.css set `[hidden] { display: none !important; }` so we also need the `!important` here to be able to override the default hidden behavior on the sphinx rendered scikit-learn.org. See: https://github.com/scikit-learn/scikit-learn/issues/21755 */display: inline-block !important;position: relative;}#sk-container-id-1 div.sk-text-repr-fallback {display: none;}</style><div id=\"sk-container-id-1\" class=\"sk-top-container\"><div class=\"sk-text-repr-fallback\"><pre>GaussianNB()</pre><b>In a Jupyter environment, please rerun this cell to show the HTML representation or trust the notebook. <br />On GitHub, the HTML representation is unable to render, please try loading this page with nbviewer.org.</b></div><div class=\"sk-container\" hidden><div class=\"sk-item\"><div class=\"sk-estimator sk-toggleable\"><input class=\"sk-toggleable__control sk-hidden--visually\" id=\"sk-estimator-id-1\" type=\"checkbox\" checked><label for=\"sk-estimator-id-1\" class=\"sk-toggleable__label sk-toggleable__label-arrow\">GaussianNB</label><div class=\"sk-toggleable__content\"><pre>GaussianNB()</pre></div></div></div></div></div>"
            ]
          },
          "metadata": {},
          "execution_count": 14
        }
      ]
    },
    {
      "cell_type": "markdown",
      "metadata": {
        "id": "iXT0yCoI07X8"
      },
      "source": [
        "## Predicting"
      ]
    },
    {
      "cell_type": "code",
      "source": [
        "print(classifier.predict(sc.transform([[36,34000]])))"
      ],
      "metadata": {
        "colab": {
          "base_uri": "https://localhost:8080/"
        },
        "id": "SCcNXsyrVj19",
        "outputId": "63c0fdaf-31e0-4489-9353-79e7476c015a"
      },
      "execution_count": 16,
      "outputs": [
        {
          "output_type": "stream",
          "name": "stdout",
          "text": [
            "[1]\n"
          ]
        }
      ]
    },
    {
      "cell_type": "markdown",
      "metadata": {
        "id": "9oG_iJfc1A0K"
      },
      "source": [
        "## Predicting Test set results"
      ]
    },
    {
      "cell_type": "code",
      "source": [
        "y_pred=classifier.predict(x_test)\n",
        "print(np.concatenate((y_pred.reshape(len(y_pred),1),y_test.reshape(len(y_test),1)),1))"
      ],
      "metadata": {
        "colab": {
          "base_uri": "https://localhost:8080/"
        },
        "id": "8rSgJnqnWLA3",
        "outputId": "6d2afc3b-fcf7-48a4-febd-77a052ef774d"
      },
      "execution_count": 17,
      "outputs": [
        {
          "output_type": "stream",
          "name": "stdout",
          "text": [
            "[[1 1]\n",
            " [0 0]\n",
            " [0 0]\n",
            " [0 0]\n",
            " [0 0]\n",
            " [0 0]\n",
            " [0 0]\n",
            " [1 1]\n",
            " [1 1]\n",
            " [1 1]\n",
            " [0 0]\n",
            " [0 0]\n",
            " [0 0]\n",
            " [1 1]\n",
            " [1 1]\n",
            " [1 1]\n",
            " [0 0]\n",
            " [1 1]\n",
            " [0 1]\n",
            " [0 0]\n",
            " [0 0]\n",
            " [0 0]\n",
            " [0 0]\n",
            " [0 1]\n",
            " [0 0]\n",
            " [0 0]\n",
            " [1 1]\n",
            " [1 1]\n",
            " [0 0]\n",
            " [0 0]\n",
            " [0 0]\n",
            " [1 1]\n",
            " [1 1]\n",
            " [0 0]\n",
            " [1 1]\n",
            " [1 0]\n",
            " [0 0]\n",
            " [0 1]\n",
            " [1 1]\n",
            " [0 0]\n",
            " [0 0]\n",
            " [0 0]\n",
            " [0 0]\n",
            " [0 0]\n",
            " [1 1]\n",
            " [1 1]\n",
            " [0 0]\n",
            " [0 0]\n",
            " [0 0]\n",
            " [1 1]\n",
            " [0 0]\n",
            " [1 1]\n",
            " [0 0]\n",
            " [1 1]\n",
            " [0 0]\n",
            " [0 0]\n",
            " [0 0]\n",
            " [0 0]\n",
            " [0 0]\n",
            " [1 1]]\n"
          ]
        }
      ]
    },
    {
      "cell_type": "markdown",
      "metadata": {
        "id": "p6I0bJj_1Fxl"
      },
      "source": [
        "## Confusion Matrix"
      ]
    },
    {
      "cell_type": "code",
      "source": [
        "from sklearn.metrics import confusion_matrix,accuracy_score\n",
        "cm=confusion_matrix(y_test,y_pred)\n",
        "print(cm)\n",
        "accuracy_score(y_test,y_pred)"
      ],
      "metadata": {
        "colab": {
          "base_uri": "https://localhost:8080/"
        },
        "id": "f_2paB7cW1TS",
        "outputId": "3f719b4a-a8eb-40c8-c128-32a27859f1f0"
      },
      "execution_count": 18,
      "outputs": [
        {
          "output_type": "stream",
          "name": "stdout",
          "text": [
            "[[36  1]\n",
            " [ 3 20]]\n"
          ]
        },
        {
          "output_type": "execute_result",
          "data": {
            "text/plain": [
              "0.9333333333333333"
            ]
          },
          "metadata": {},
          "execution_count": 18
        }
      ]
    },
    {
      "cell_type": "markdown",
      "metadata": {
        "id": "SO86fovR1MKy"
      },
      "source": [
        "## Visualizing Test Set results"
      ]
    },
    {
      "cell_type": "code",
      "source": [
        "from matplotlib.colors import ListedColormap\n",
        "x_set, y_set = sc.inverse_transform(x_test), y_test\n",
        "x1, x2 = np.meshgrid(np.arange(start = x_set[:, 0].min() - 0, stop = x_set[:, 0].max() + 10, step = 1),\n",
        "                     np.arange(start = x_set[:, 1].min() - 0, stop = x_set[:, 1].max() + 1000, step = 1))\n",
        "plt.contourf(x1, x2, classifier.predict(sc.transform(np.array([x1.ravel(), x2.ravel()]).T)).reshape(x1.shape),\n",
        "             alpha = 0.75, cmap = ListedColormap(('red', 'green')))\n",
        "plt.xlim(x1.min(), x1.max())\n",
        "plt.ylim(x2.min(), x2.max())\n",
        "for i, j in enumerate(np.unique(y_set)):\n",
        "    plt.scatter(x_set[y_set == j, 0], x_set[y_set == j, 1], c = ListedColormap(('red', 'green'))(i), label = j)\n",
        "plt.title('SVM (Test set)')\n",
        "plt.xlabel('Age')\n",
        "plt.ylabel('Cost of Device')\n",
        "plt.legend()\n",
        "plt.show()"
      ],
      "metadata": {
        "colab": {
          "base_uri": "https://localhost:8080/",
          "height": 350
        },
        "id": "QoL8GoZtZSaK",
        "outputId": "159218cd-7b56-457a-dcd6-43f604dcbe12"
      },
      "execution_count": 19,
      "outputs": [
        {
          "output_type": "stream",
          "name": "stderr",
          "text": [
            "WARNING:matplotlib.axes._axes:*c* argument looks like a single numeric RGB or RGBA sequence, which should be avoided as value-mapping will have precedence in case its length matches with *x* & *y*.  Please use the *color* keyword-argument or provide a 2D array with a single row if you intend to specify the same RGB or RGBA value for all points.\n",
            "WARNING:matplotlib.axes._axes:*c* argument looks like a single numeric RGB or RGBA sequence, which should be avoided as value-mapping will have precedence in case its length matches with *x* & *y*.  Please use the *color* keyword-argument or provide a 2D array with a single row if you intend to specify the same RGB or RGBA value for all points.\n"
          ]
        },
        {
          "output_type": "display_data",
          "data": {
            "text/plain": [
              "<Figure size 432x288 with 1 Axes>"
            ],
            "image/png": "[encoded data removed]"
          },
          "metadata": {
            "needs_background": "light"
          }
        }
      ]
    },
    {
      "cell_type": "markdown",
      "metadata": {
        "id": "MokDuSCS1J0n"
      },
      "source": [
        "## Visualising Training set results"
      ]
    },
    {
      "cell_type": "code",
      "source": [
        "from matplotlib.colors import ListedColormap\n",
        "x_set, y_set = sc.inverse_transform(x_train), y_train\n",
        "x1, x2 = np.meshgrid(np.arange(start = x_set[:, 0].min() - 0, stop = x_set[:, 0].max() + 10, step = 1),\n",
        "                     np.arange(start = x_set[:, 1].min() - 0, stop = x_set[:, 1].max() + 1000, step = 1))\n",
        "plt.contourf(x1, x2, classifier.predict(sc.transform(np.array([x1.ravel(), x2.ravel()]).T)).reshape(x1.shape),\n",
        "             alpha = 0.75, cmap = ListedColormap(('red', 'green')))\n",
        "plt.xlim(x1.min(), x1.max())\n",
        "plt.ylim(x2.min(), x2.max())\n",
        "for i, j in enumerate(np.unique(y_set)):\n",
        "    plt.scatter(x_set[y_set == j, 0], x_set[y_set == j, 1], c = ListedColormap(('red', 'green'))(i), label = j)\n",
        "plt.title('SVM (Training set)')\n",
        "plt.xlabel('Age')\n",
        "plt.ylabel('Cost of Device')\n",
        "plt.legend()\n",
        "plt.show()"
      ],
      "metadata": {
        "colab": {
          "base_uri": "https://localhost:8080/",
          "height": 350
        },
        "id": "ro1Oi342ZuLd",
        "outputId": "81622140-7369-4585-c68c-a4d914854a7b"
      },
      "execution_count": 20,
      "outputs": [
        {
          "output_type": "stream",
          "name": "stderr",
          "text": [
            "WARNING:matplotlib.axes._axes:*c* argument looks like a single numeric RGB or RGBA sequence, which should be avoided as value-mapping will have precedence in case its length matches with *x* & *y*.  Please use the *color* keyword-argument or provide a 2D array with a single row if you intend to specify the same RGB or RGBA value for all points.\n",
            "WARNING:matplotlib.axes._axes:*c* argument looks like a single numeric RGB or RGBA sequence, which should be avoided as value-mapping will have precedence in case its length matches with *x* & *y*.  Please use the *color* keyword-argument or provide a 2D array with a single row if you intend to specify the same RGB or RGBA value for all points.\n"
          ]
        },
        {
          "output_type": "display_data",
          "data": {
            "text/plain": [
              "<Figure size 432x288 with 1 Axes>"
            ],
            "image/png": "[encoded data removed]"
          },
          "metadata": {
            "needs_background": "light"
          }
        }
      ]
    }
  ]
}
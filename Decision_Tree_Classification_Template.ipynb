{
  "nbformat": 4,
  "nbformat_minor": 0,
  "metadata": {
    "colab": {
      "provenance": [],
      "include_colab_link": true
    },
    "kernelspec": {
      "name": "python3",
      "display_name": "Python 3"
    }
  },
  "cells": [
    {
      "cell_type": "markdown",
      "metadata": {
        "id": "view-in-github",
        "colab_type": "text"
      },
      "source": [
        "<a href=\"https://colab.research.google.com/github/rishabhoops/Machine-Learning-Repository/blob/main/Decision_Tree_Classification_Template.ipynb\" target=\"_parent\"><img src=\"https://colab.research.google.com/assets/colab-badge.svg\" alt=\"Open In Colab\"/></a>"
      ]
    },
    {
      "cell_type": "markdown",
      "metadata": {
        "id": "Z-jZGC0q0aiY"
      },
      "source": [
        "# Decision Tree"
      ]
    },
    {
      "cell_type": "markdown",
      "metadata": {
        "id": "jE4Rc_OO0eJM"
      },
      "source": [
        "## Importing libraries"
      ]
    },
    {
      "cell_type": "code",
      "source": [
        "import numpy as np\n",
        "import matplotlib.pyplot as plt\n",
        "import pandas as pd"
      ],
      "metadata": {
        "id": "QIvLebV2Clof"
      },
      "execution_count": 1,
      "outputs": []
    },
    {
      "cell_type": "markdown",
      "metadata": {
        "id": "A9-xGHd20gY1"
      },
      "source": [
        "## Importing dataset"
      ]
    },
    {
      "cell_type": "code",
      "source": [
        "dataset = pd.read_csv(\"/content/Instagram Ads Decision Tree.csv\")\n",
        "x=dataset.iloc[:,:-1].values\n",
        "y=dataset.iloc[:,-1].values"
      ],
      "metadata": {
        "id": "bKG6XydCC8lN"
      },
      "execution_count": 3,
      "outputs": []
    },
    {
      "cell_type": "code",
      "source": [
        "print(x)"
      ],
      "metadata": {
        "colab": {
          "base_uri": "https://localhost:8080/"
        },
        "id": "mOtGkPqTDlAG",
        "outputId": "3917ce14-5be5-4ec8-9b7a-c00affb916a1"
      },
      "execution_count": 4,
      "outputs": [
        {
          "output_type": "stream",
          "name": "stdout",
          "text": [
            "[[   15  6334]\n",
            " [   28  6667]\n",
            " [   20 14334]\n",
            " [   21 19000]\n",
            " [   15 25334]\n",
            " [   21 19334]\n",
            " [   21 28000]\n",
            " [   25 50000]\n",
            " [   20 11000]\n",
            " [   28 21667]\n",
            " [   20 26667]\n",
            " [   26 17000]\n",
            " [   28 36000]\n",
            " [   18  6667]\n",
            " [   20 26334]\n",
            " [   21 18000]\n",
            " [   24 45000]\n",
            " [   24 29667]\n",
            " [   19 10667]\n",
            " [   14 14667]\n",
            " [   23 27667]\n",
            " [   28  7667]\n",
            " [   21 19334]\n",
            " [   19 18334]\n",
            " [   18 16000]\n",
            " [   22 26334]\n",
            " [   17  6000]\n",
            " [   25 39000]\n",
            " [   21  6667]\n",
            " [   20 29000]\n",
            " [   18 22000]\n",
            " [   25 40000]\n",
            " [   17 21000]\n",
            " [   24 22667]\n",
            " [   20 26667]\n",
            " [   19  9000]\n",
            " [   16  7667]\n",
            " [   26 37667]\n",
            " [   25  6000]\n",
            " [   27 37334]\n",
            " [   24 38667]\n",
            " [   20  5000]\n",
            " [   23  9334]\n",
            " [   23 27667]\n",
            " [   26 49667]\n",
            " [   15  7000]\n",
            " [   16 24000]\n",
            " [   20 11667]\n",
            " [   21 29667]\n",
            " [   20 28667]\n",
            " [   30 26667]\n",
            " [   31 23667]\n",
            " [   29 23667]\n",
            " [   20 30000]\n",
            " [   29 11000]\n",
            " [   17 18334]\n",
            " [   28 23667]\n",
            " [   23 49334]\n",
            " [   23 15667]\n",
            " [   16 29334]\n",
            " [   27 38334]\n",
            " [   20 39334]\n",
            " [   27 14334]\n",
            " [   27 24000]\n",
            " [   18  9334]\n",
            " [   28 15667]\n",
            " [   20  7334]\n",
            " [   19  7667]\n",
            " [   16 27334]\n",
            " [   26 13667]\n",
            " [   22 10667]\n",
            " [   19 28000]\n",
            " [   15  8667]\n",
            " [   23 14334]\n",
            " [   15 23334]\n",
            " [   22 29667]\n",
            " [   27 14334]\n",
            " [   24 26334]\n",
            " [   16 12000]\n",
            " [   20 26667]\n",
            " [   28  7334]\n",
            " [   28 13000]\n",
            " [   39 24667]\n",
            " [   31 44667]\n",
            " [   32 23667]\n",
            " [   46 33667]\n",
            " [   37 15667]\n",
            " [   44 43334]\n",
            " [   41 38000]\n",
            " [   32 47334]\n",
            " [   36  7334]\n",
            " [   38 32000]\n",
            " [   41 50000]\n",
            " [   28 19334]\n",
            " [   37 14334]\n",
            " [   48 36000]\n",
            " [   39 21667]\n",
            " [   32 26000]\n",
            " [   36 32000]\n",
            " [   47 47667]\n",
            " [   32 26667]\n",
            " [   28 30334]\n",
            " [   29 48000]\n",
            " [   48 34000]\n",
            " [   28 20000]\n",
            " [   29 17667]\n",
            " [   28 42000]\n",
            " [   44 44334]\n",
            " [   32 24000]\n",
            " [   33 26667]\n",
            " [   28 49000]\n",
            " [   31 14000]\n",
            " [   39 28667]\n",
            " [   36 26334]\n",
            " [   29 26667]\n",
            " [   36 27334]\n",
            " [   42 47667]\n",
            " [   33 49667]\n",
            " [   30 19667]\n",
            " [   40 29334]\n",
            " [   44 34667]\n",
            " [   32 24000]\n",
            " [   28 16667]\n",
            " [   45 40667]\n",
            " [   32 17334]\n",
            " [   28 32334]\n",
            " [   35 13000]\n",
            " [   29 17334]\n",
            " [   38 44667]\n",
            " [   29 48667]\n",
            " [   41 30000]\n",
            " [   32 24000]\n",
            " [   32 19000]\n",
            " [   46 31667]\n",
            " [   36 43667]\n",
            " [   28 48000]\n",
            " [   28 24000]\n",
            " [   38 30000]\n",
            " [   33 36000]\n",
            " [   32 25000]\n",
            " [   37 48000]\n",
            " [   32 20334]\n",
            " [   34 44334]\n",
            " [   47 25334]\n",
            " [   48 14000]\n",
            " [   31 35334]\n",
            " [   45  8667]\n",
            " [   45 24667]\n",
            " [   30 23667]\n",
            " [   39 29334]\n",
            " [   41 12667]\n",
            " [   40 12000]\n",
            " [   47 29334]\n",
            " [   28 20334]\n",
            " [   29 23334]\n",
            " [   41  7000]\n",
            " [   38 47000]\n",
            " [   29 31000]\n",
            " [   29 20667]\n",
            " [   38 46000]\n",
            " [   32 26334]\n",
            " [   29 26000]\n",
            " [   31 44667]\n",
            " [   39 29667]\n",
            " [   44 13000]\n",
            " [   29 25667]\n",
            " [   28 21000]\n",
            " [   33 24334]\n",
            " [   36 39000]\n",
            " [   38 24667]\n",
            " [   29 26334]\n",
            " [   32 20000]\n",
            " [   37 37667]\n",
            " [   30 16667]\n",
            " [   39 47000]\n",
            " [   31 26334]\n",
            " [   31 25000]\n",
            " [   43 34667]\n",
            " [   28 18334]\n",
            " [   36 10667]\n",
            " [   28 20000]\n",
            " [   41 46000]\n",
            " [   42 27334]\n",
            " [   32 17334]\n",
            " [   38 10000]\n",
            " [   38 43667]\n",
            " [   32 24000]\n",
            " [   37 35667]\n",
            " [   30 17000]\n",
            " [   38 39667]\n",
            " [   33 21667]\n",
            " [   32 21667]\n",
            " [   45 20000]\n",
            " [   28 18000]\n",
            " [   28 26334]\n",
            " [   34 43000]\n",
            " [   42 11334]\n",
            " [   37 16667]\n",
            " [   33 26334]]\n"
          ]
        }
      ]
    },
    {
      "cell_type": "code",
      "source": [
        "print(y)"
      ],
      "metadata": {
        "colab": {
          "base_uri": "https://localhost:8080/"
        },
        "id": "sJfZn2YvDnj-",
        "outputId": "721c639d-7900-46f2-91ed-ffb97ce7ad5c"
      },
      "execution_count": 5,
      "outputs": [
        {
          "output_type": "stream",
          "name": "stdout",
          "text": [
            "[0 0 0 0 0 0 0 1 0 0 0 0 0 0 0 0 1 0 0 0 0 0 0 0 0 0 0 0 0 0 0 1 0 0 0 0 0\n",
            " 0 0 1 0 0 0 0 1 0 0 0 0 0 0 0 0 0 0 0 0 1 0 0 0 0 0 0 0 0 0 0 0 0 0 0 0 0\n",
            " 0 0 0 0 0 0 0 0 0 1 0 1 0 1 0 1 0 1 1 0 0 1 0 0 0 1 0 1 1 1 0 0 1 1 0 1 1\n",
            " 0 1 1 0 0 1 1 0 1 1 0 0 1 0 1 0 0 1 1 1 0 0 1 1 1 0 1 1 0 1 0 0 1 1 1 1 1\n",
            " 0 1 1 1 1 0 1 1 0 1 0 1 0 1 1 1 1 0 0 1 1 1 1 0 1 0 1 0 1 1 0 1 0 1 1 0 1\n",
            " 1 0 1 0 1 0 0 1 0 0 1 1 1 0]\n"
          ]
        }
      ]
    },
    {
      "cell_type": "markdown",
      "metadata": {
        "id": "8REFJFGC0lRN"
      },
      "source": [
        "## Splitting the dataset into Training & Test set"
      ]
    },
    {
      "cell_type": "code",
      "source": [
        "from sklearn.model_selection import train_test_split\n",
        "x_train,x_test,y_train,y_test=train_test_split(x,y,test_size=0.3,random_state=0)"
      ],
      "metadata": {
        "id": "XfJ3_IbnDr0e"
      },
      "execution_count": 15,
      "outputs": []
    },
    {
      "cell_type": "code",
      "source": [
        "print(x_train)"
      ],
      "metadata": {
        "colab": {
          "base_uri": "https://localhost:8080/"
        },
        "id": "xWlinXDSED5A",
        "outputId": "0bb63122-da54-4c20-a18b-26369c8edde3"
      },
      "execution_count": 16,
      "outputs": [
        {
          "output_type": "stream",
          "name": "stdout",
          "text": [
            "[[   41 30000]\n",
            " [   42 27334]\n",
            " [   28 20000]\n",
            " [   14 14667]\n",
            " [   47 29334]\n",
            " [   28 24000]\n",
            " [   29 11000]\n",
            " [   31 44667]\n",
            " [   31 23667]\n",
            " [   39 28667]\n",
            " [   33 36000]\n",
            " [   32 47334]\n",
            " [   36  7334]\n",
            " [   45 40667]\n",
            " [   47 25334]\n",
            " [   41 46000]\n",
            " [   32 24000]\n",
            " [   20 26334]\n",
            " [   25 39000]\n",
            " [   28 30334]\n",
            " [   30 19667]\n",
            " [   16 24000]\n",
            " [   28 26334]\n",
            " [   44 44334]\n",
            " [   27 14334]\n",
            " [   20 14334]\n",
            " [   16 29334]\n",
            " [   30 16667]\n",
            " [   35 13000]\n",
            " [   23 27667]\n",
            " [   20 26667]\n",
            " [   32 24000]\n",
            " [   23 14334]\n",
            " [   32 21667]\n",
            " [   43 34667]\n",
            " [   33 24334]\n",
            " [   28 32334]\n",
            " [   28 19334]\n",
            " [   31 14000]\n",
            " [   29 31000]\n",
            " [   33 21667]\n",
            " [   30 26667]\n",
            " [   15  6334]\n",
            " [   37 14334]\n",
            " [   33 26667]\n",
            " [   48 36000]\n",
            " [   18  9334]\n",
            " [   32 20334]\n",
            " [   20  5000]\n",
            " [   26 13667]\n",
            " [   20 28667]\n",
            " [   21 29667]\n",
            " [   46 33667]\n",
            " [   18  6667]\n",
            " [   41 12667]\n",
            " [   19 18334]\n",
            " [   38 43667]\n",
            " [   36 43667]\n",
            " [   23 27667]\n",
            " [   21 18000]\n",
            " [   16 12000]\n",
            " [   28 20000]\n",
            " [   29 23667]\n",
            " [   32 26667]\n",
            " [   27 14334]\n",
            " [   21 19000]\n",
            " [   42 47667]\n",
            " [   39 29667]\n",
            " [   37 16667]\n",
            " [   21 28000]\n",
            " [   16 27334]\n",
            " [   32 23667]\n",
            " [   32 24000]\n",
            " [   29 23334]\n",
            " [   29 26334]\n",
            " [   41  7000]\n",
            " [   38 32000]\n",
            " [   32 20000]\n",
            " [   26 17000]\n",
            " [   40 29334]\n",
            " [   29 48000]\n",
            " [   19  9000]\n",
            " [   23 49334]\n",
            " [   28 15667]\n",
            " [   28  6667]\n",
            " [   44 34667]\n",
            " [   29 26000]\n",
            " [   23  9334]\n",
            " [   29 17667]\n",
            " [   32 19000]\n",
            " [   33 26334]\n",
            " [   24 29667]\n",
            " [   25  6000]\n",
            " [   46 31667]\n",
            " [   20 30000]\n",
            " [   38 47000]\n",
            " [   38 44667]\n",
            " [   20 26667]\n",
            " [   21  6667]\n",
            " [   29 26667]\n",
            " [   40 12000]\n",
            " [   25 40000]\n",
            " [   36 10667]\n",
            " [   29 17334]\n",
            " [   31 26334]\n",
            " [   17 21000]\n",
            " [   34 44334]\n",
            " [   36 39000]\n",
            " [   45 24667]\n",
            " [   20 29000]\n",
            " [   47 47667]\n",
            " [   39 24667]\n",
            " [   20 26667]\n",
            " [   36 27334]\n",
            " [   30 23667]\n",
            " [   34 43000]\n",
            " [   15  8667]\n",
            " [   24 26334]\n",
            " [   22 26334]\n",
            " [   29 25667]\n",
            " [   28 13000]\n",
            " [   37 35667]\n",
            " [   39 47000]\n",
            " [   38 39667]\n",
            " [   27 37334]\n",
            " [   23 15667]\n",
            " [   37 48000]\n",
            " [   41 38000]\n",
            " [   22 10667]\n",
            " [   44 43334]\n",
            " [   16  7667]\n",
            " [   28  7667]\n",
            " [   28 21667]\n",
            " [   48 34000]\n",
            " [   19  7667]\n",
            " [   45 20000]\n",
            " [   33 49667]\n",
            " [   20 11667]\n",
            " [   37 37667]]\n"
          ]
        }
      ]
    },
    {
      "cell_type": "code",
      "source": [
        "print(x_test)"
      ],
      "metadata": {
        "colab": {
          "base_uri": "https://localhost:8080/"
        },
        "id": "t98wIzlYEUvH",
        "outputId": "6d6439cf-dece-4556-a385-eca3332ff2a7"
      },
      "execution_count": 17,
      "outputs": [
        {
          "output_type": "stream",
          "name": "stdout",
          "text": [
            "[[   19 10667]\n",
            " [   38 24667]\n",
            " [   28 42000]\n",
            " [   41 50000]\n",
            " [   31 25000]\n",
            " [   32 17334]\n",
            " [   21 19334]\n",
            " [   32 25000]\n",
            " [   28 36000]\n",
            " [   32 26334]\n",
            " [   20 39334]\n",
            " [   32 17334]\n",
            " [   44 13000]\n",
            " [   31 35334]\n",
            " [   28  7334]\n",
            " [   25 50000]\n",
            " [   24 22667]\n",
            " [   29 48667]\n",
            " [   26 37667]\n",
            " [   15 23334]\n",
            " [   38 46000]\n",
            " [   48 14000]\n",
            " [   15  7000]\n",
            " [   29 20667]\n",
            " [   27 38334]\n",
            " [   28 16667]\n",
            " [   28 18334]\n",
            " [   38 10000]\n",
            " [   32 26000]\n",
            " [   26 49667]\n",
            " [   24 45000]\n",
            " [   17 18334]\n",
            " [   31 44667]\n",
            " [   28 49000]\n",
            " [   21 19334]\n",
            " [   30 17000]\n",
            " [   28 48000]\n",
            " [   15 25334]\n",
            " [   38 30000]\n",
            " [   28 18000]\n",
            " [   28 20334]\n",
            " [   20  7334]\n",
            " [   17  6000]\n",
            " [   32 24000]\n",
            " [   45  8667]\n",
            " [   27 24000]\n",
            " [   20 11000]\n",
            " [   22 29667]\n",
            " [   36 32000]\n",
            " [   28 21000]\n",
            " [   19 28000]\n",
            " [   42 11334]\n",
            " [   37 15667]\n",
            " [   39 21667]\n",
            " [   39 29334]\n",
            " [   18 16000]\n",
            " [   18 22000]\n",
            " [   36 26334]\n",
            " [   24 38667]\n",
            " [   28 23667]]\n"
          ]
        }
      ]
    },
    {
      "cell_type": "code",
      "source": [
        "print(y_train)"
      ],
      "metadata": {
        "colab": {
          "base_uri": "https://localhost:8080/"
        },
        "id": "Duy4-Jo0EXLZ",
        "outputId": "820a24de-1071-46d5-e05a-11389d7a3b5a"
      },
      "execution_count": 18,
      "outputs": [
        {
          "output_type": "stream",
          "name": "stdout",
          "text": [
            "[1 1 0 0 1 0 0 1 0 1 1 1 0 1 1 1 0 0 0 1 0 0 0 1 0 0 0 0 0 0 0 0 0 0 1 1 1\n",
            " 0 0 1 0 0 0 0 1 1 0 0 0 0 0 0 1 0 1 0 1 1 0 0 0 0 0 0 0 0 1 1 1 0 0 0 0 1\n",
            " 1 1 1 0 0 1 1 0 1 0 0 1 1 0 0 0 0 0 0 1 0 0 1 0 0 0 1 1 1 0 0 0 0 1 1 0 1\n",
            " 0 0 0 0 1 0 0 0 0 0 1 1 1 1 0 1 0 0 1 0 0 0 1 0 1 1 0 1]\n"
          ]
        }
      ]
    },
    {
      "cell_type": "code",
      "source": [
        "print(y_test)"
      ],
      "metadata": {
        "colab": {
          "base_uri": "https://localhost:8080/"
        },
        "id": "WXloicJxEalU",
        "outputId": "8db9193c-2f51-4323-da4f-1282087b4775"
      },
      "execution_count": 11,
      "outputs": [
        {
          "output_type": "stream",
          "name": "stdout",
          "text": [
            "[1 0 0 0 0 0 0 1 1 1 0 0 0 1 1 1 0 1 1 0 0 0 0 1 0 0 1 1 0 0 0 1 1 0 1 0 0\n",
            " 1 1 0 0 0 0 0 1 1 0 0 0 1 0 1 0 1 0 0 0 0 0 1]\n"
          ]
        }
      ]
    },
    {
      "cell_type": "markdown",
      "metadata": {
        "id": "-Dw4Khi70u9g"
      },
      "source": [
        "## Feature Scaling"
      ]
    },
    {
      "cell_type": "code",
      "source": [
        "from sklearn.preprocessing import StandardScaler\n",
        "sc=StandardScaler()\n",
        "x_train=sc.fit_transform(x_train)\n",
        "x_test=sc.transform(x_test)"
      ],
      "metadata": {
        "id": "wnXEy99YEhNw"
      },
      "execution_count": 19,
      "outputs": []
    },
    {
      "cell_type": "code",
      "source": [
        "print(x_train)"
      ],
      "metadata": {
        "colab": {
          "base_uri": "https://localhost:8080/"
        },
        "id": "87qUKNZKE5dC",
        "outputId": "f1c0b7ef-c016-49f5-e2b1-d293ec22eb8c"
      },
      "execution_count": 20,
      "outputs": [
        {
          "output_type": "stream",
          "name": "stdout",
          "text": [
            "[[ 1.23588912  0.38970448]\n",
            " [ 1.35172768  0.16082267]\n",
            " [-0.27001219 -0.46881692]\n",
            " [-1.89175206 -0.92666637]\n",
            " [ 1.93092049  0.33252695]\n",
            " [-0.27001219 -0.12540836]\n",
            " [-0.15417363 -1.24148617]\n",
            " [ 0.0775035   1.6488978 ]\n",
            " [ 0.0775035  -0.15399712]\n",
            " [ 1.004212    0.27526358]\n",
            " [ 0.30918062  0.90481731]\n",
            " [ 0.19334206  1.87786546]\n",
            " [ 0.65669631 -1.55622011]\n",
            " [ 1.69924337  1.30548925]\n",
            " [ 1.93092049 -0.0108816 ]\n",
            " [ 1.23588912  1.76333871]\n",
            " [ 0.19334206 -0.12540836]\n",
            " [-1.19672069  0.07497054]\n",
            " [-0.61752788  1.16237373]\n",
            " [-0.27001219  0.41837909]\n",
            " [-0.03833506 -0.49740568]\n",
            " [-1.66007494 -0.12540836]\n",
            " [-0.27001219  0.07497054]\n",
            " [ 1.58340481  1.62030904]\n",
            " [-0.38585075 -0.95525514]\n",
            " [-1.19672069 -0.95525514]\n",
            " [-1.66007494  0.33252695]\n",
            " [-0.03833506 -0.7549621 ]\n",
            " [ 0.54085775 -1.06978189]\n",
            " [-0.849205    0.18941144]\n",
            " [-1.19672069  0.1035593 ]\n",
            " [ 0.19334206 -0.12540836]\n",
            " [-0.849205   -0.95525514]\n",
            " [ 0.19334206 -0.3257014 ]\n",
            " [ 1.46756625  0.79037641]\n",
            " [ 0.30918062 -0.09673374]\n",
            " [-0.27001219  0.59008337]\n",
            " [-0.27001219 -0.52599444]\n",
            " [ 0.0775035  -0.98392975]\n",
            " [-0.15417363  0.47555662]\n",
            " [ 0.30918062 -0.3257014 ]\n",
            " [-0.03833506  0.1035593 ]\n",
            " [-1.7759135  -1.64207225]\n",
            " [ 0.77253487 -0.95525514]\n",
            " [ 0.30918062  0.1035593 ]\n",
            " [ 2.04675906  0.90481731]\n",
            " [-1.42839781 -1.38451583]\n",
            " [ 0.19334206 -0.4401423 ]\n",
            " [-1.19672069 -1.756599  ]\n",
            " [-0.50168931 -1.01251851]\n",
            " [-1.19672069  0.27526358]\n",
            " [-1.08088212  0.36111572]\n",
            " [ 1.81508193  0.70452427]\n",
            " [-1.42839781 -1.61348349]\n",
            " [ 1.23588912 -1.09837065]\n",
            " [-1.31255925 -0.61184658]\n",
            " [ 0.88837343  1.56304567]\n",
            " [ 0.65669631  1.56304567]\n",
            " [-0.849205    0.18941144]\n",
            " [-1.08088212 -0.64052119]\n",
            " [-1.66007494 -1.15563403]\n",
            " [-0.27001219 -0.46881692]\n",
            " [-0.15417363 -0.15399712]\n",
            " [ 0.19334206  0.1035593 ]\n",
            " [-0.38585075 -0.95525514]\n",
            " [-1.08088212 -0.55466905]\n",
            " [ 1.35172768  1.90645422]\n",
            " [ 1.004212    0.36111572]\n",
            " [ 0.77253487 -0.7549621 ]\n",
            " [-1.08088212  0.2180002 ]\n",
            " [-1.66007494  0.16082267]\n",
            " [ 0.19334206 -0.15399712]\n",
            " [ 0.19334206 -0.12540836]\n",
            " [-0.15417363 -0.18258588]\n",
            " [-0.15417363  0.07497054]\n",
            " [ 1.23588912 -1.58489473]\n",
            " [ 0.88837343  0.56140876]\n",
            " [ 0.19334206 -0.46881692]\n",
            " [-0.50168931 -0.72637333]\n",
            " [ 1.12005056  0.33252695]\n",
            " [-0.15417363  1.93504298]\n",
            " [-1.31255925 -1.41319045]\n",
            " [-0.849205    2.04956974]\n",
            " [-0.27001219 -0.84081423]\n",
            " [-0.27001219 -1.61348349]\n",
            " [ 1.58340481  0.79037641]\n",
            " [-0.15417363  0.04629592]\n",
            " [-0.849205   -1.38451583]\n",
            " [-0.15417363 -0.66910996]\n",
            " [ 0.19334206 -0.55466905]\n",
            " [ 0.30918062  0.07497054]\n",
            " [-0.73336644  0.36111572]\n",
            " [-0.61752788 -1.67074686]\n",
            " [ 1.81508193  0.53281999]\n",
            " [-1.19672069  0.38970448]\n",
            " [ 0.88837343  1.84919085]\n",
            " [ 0.88837343  1.6488978 ]\n",
            " [-1.19672069  0.1035593 ]\n",
            " [-1.08088212 -1.61348349]\n",
            " [-0.15417363  0.1035593 ]\n",
            " [ 1.12005056 -1.15563403]\n",
            " [-0.61752788  1.24822587]\n",
            " [ 0.65669631 -1.27007493]\n",
            " [-0.15417363 -0.69769872]\n",
            " [ 0.0775035   0.07497054]\n",
            " [-1.54423637 -0.38296478]\n",
            " [ 0.42501919  1.62030904]\n",
            " [ 0.65669631  1.16237373]\n",
            " [ 1.69924337 -0.06814498]\n",
            " [-1.19672069  0.30385234]\n",
            " [ 1.93092049  1.90645422]\n",
            " [ 1.004212   -0.06814498]\n",
            " [-1.19672069  0.1035593 ]\n",
            " [ 0.65669631  0.16082267]\n",
            " [-0.03833506 -0.15399712]\n",
            " [ 0.42501919  1.50578229]\n",
            " [-1.7759135  -1.44177921]\n",
            " [-0.73336644  0.07497054]\n",
            " [-0.96504356  0.07497054]\n",
            " [-0.15417363  0.01770716]\n",
            " [-0.27001219 -1.06978189]\n",
            " [ 0.77253487  0.87622855]\n",
            " [ 1.004212    1.84919085]\n",
            " [ 0.88837343  1.21963711]\n",
            " [-0.38585075  1.01934407]\n",
            " [-0.849205   -0.84081423]\n",
            " [ 0.77253487  1.93504298]\n",
            " [ 1.23588912  1.07652159]\n",
            " [-0.96504356 -1.27007493]\n",
            " [ 1.58340481  1.5344569 ]\n",
            " [-1.66007494 -1.52763135]\n",
            " [-0.27001219 -1.52763135]\n",
            " [-0.27001219 -0.3257014 ]\n",
            " [ 2.04675906  0.73311303]\n",
            " [-1.31255925 -1.52763135]\n",
            " [ 1.69924337 -0.46881692]\n",
            " [ 0.30918062  2.0781585 ]\n",
            " [-1.19672069 -1.18422279]\n",
            " [ 0.77253487  1.04793283]]\n"
          ]
        }
      ]
    },
    {
      "cell_type": "code",
      "source": [
        "print(x_test)"
      ],
      "metadata": {
        "colab": {
          "base_uri": "https://localhost:8080/"
        },
        "id": "xLn9AqUeE9a7",
        "outputId": "259caf8d-38e2-497b-fc6d-ee425358c0e2"
      },
      "execution_count": 22,
      "outputs": [
        {
          "output_type": "stream",
          "name": "stdout",
          "text": [
            "[[-1.31255925 -1.27007493]\n",
            " [ 0.88837343 -0.06814498]\n",
            " [-0.27001219  1.41993015]\n",
            " [ 1.23588912  2.10674726]\n",
            " [ 0.0775035  -0.03955622]\n",
            " [ 0.19334206 -0.69769872]\n",
            " [-1.08088212 -0.52599444]\n",
            " [ 0.19334206 -0.03955622]\n",
            " [-0.27001219  0.90481731]\n",
            " [ 0.19334206  0.07497054]\n",
            " [-1.19672069  1.19104835]\n",
            " [ 0.19334206 -0.69769872]\n",
            " [ 1.58340481 -1.06978189]\n",
            " [ 0.0775035   0.84763979]\n",
            " [-0.27001219 -1.55622011]\n",
            " [-0.61752788  2.10674726]\n",
            " [-0.73336644 -0.23984926]\n",
            " [-0.15417363  1.99230636]\n",
            " [-0.50168931  1.04793283]\n",
            " [-1.7759135  -0.18258588]\n",
            " [ 0.88837343  1.76333871]\n",
            " [ 2.04675906 -0.98392975]\n",
            " [-1.7759135  -1.58489473]\n",
            " [-0.15417363 -0.41155354]\n",
            " [-0.38585075  1.10519621]\n",
            " [-0.27001219 -0.7549621 ]\n",
            " [-0.27001219 -0.61184658]\n",
            " [ 0.88837343 -1.32733831]\n",
            " [ 0.19334206  0.04629592]\n",
            " [-0.50168931  2.0781585 ]\n",
            " [-0.73336644  1.67748657]\n",
            " [-1.54423637 -0.61184658]\n",
            " [ 0.0775035   1.6488978 ]\n",
            " [-0.27001219  2.02089512]\n",
            " [-1.08088212 -0.52599444]\n",
            " [-0.03833506 -0.72637333]\n",
            " [-0.27001219  1.93504298]\n",
            " [-1.7759135  -0.0108816 ]\n",
            " [ 0.88837343  0.38970448]\n",
            " [-0.27001219 -0.64052119]\n",
            " [-0.27001219 -0.4401423 ]\n",
            " [-1.19672069 -1.55622011]\n",
            " [-1.54423637 -1.67074686]\n",
            " [ 0.19334206 -0.12540836]\n",
            " [ 1.69924337 -1.44177921]\n",
            " [-0.38585075 -0.12540836]\n",
            " [-1.19672069 -1.24148617]\n",
            " [-0.96504356  0.36111572]\n",
            " [ 0.65669631  0.56140876]\n",
            " [-0.27001219 -0.38296478]\n",
            " [-1.31255925  0.2180002 ]\n",
            " [ 1.35172768 -1.21281155]\n",
            " [ 0.77253487 -0.84081423]\n",
            " [ 1.004212   -0.3257014 ]\n",
            " [ 1.004212    0.33252695]\n",
            " [-1.42839781 -0.81222547]\n",
            " [-1.42839781 -0.29711264]\n",
            " [ 0.65669631  0.07497054]\n",
            " [-0.73336644  1.13378497]\n",
            " [-0.27001219 -0.15399712]]\n"
          ]
        }
      ]
    },
    {
      "cell_type": "markdown",
      "metadata": {
        "id": "2QUFYaoH00H6"
      },
      "source": [
        "## Decision Tree Classification Training on Training set"
      ]
    },
    {
      "cell_type": "code",
      "source": [
        "from sklearn.tree import DecisionTreeClassifier\n",
        "classifier=DecisionTreeClassifier(criterion='entropy',random_state=21)\n",
        "classifier.fit(x_train,y_train)"
      ],
      "metadata": {
        "colab": {
          "base_uri": "https://localhost:8080/",
          "height": 75
        },
        "id": "xd4ewNRdF1xC",
        "outputId": "402bde70-8aff-43df-d793-6d0f7f963d5e"
      },
      "execution_count": 23,
      "outputs": [
        {
          "output_type": "execute_result",
          "data": {
            "text/plain": [
              "DecisionTreeClassifier(criterion='entropy', random_state=21)"
            ],
            "text/html": [
              "<style>#sk-container-id-1 {color: black;background-color: white;}#sk-container-id-1 pre{padding: 0;}#sk-container-id-1 div.sk-toggleable {background-color: white;}#sk-container-id-1 label.sk-toggleable__label {cursor: pointer;display: block;width: 100%;margin-bottom: 0;padding: 0.3em;box-sizing: border-box;text-align: center;}#sk-container-id-1 label.sk-toggleable__label-arrow:before {content: \"▸\";float: left;margin-right: 0.25em;color: #696969;}#sk-container-id-1 label.sk-toggleable__label-arrow:hover:before {color: black;}#sk-container-id-1 div.sk-estimator:hover label.sk-toggleable__label-arrow:before {color: black;}#sk-container-id-1 div.sk-toggleable__content {max-height: 0;max-width: 0;overflow: hidden;text-align: left;background-color: #f0f8ff;}#sk-container-id-1 div.sk-toggleable__content pre {margin: 0.2em;color: black;border-radius: 0.25em;background-color: #f0f8ff;}#sk-container-id-1 input.sk-toggleable__control:checked~div.sk-toggleable__content {max-height: 200px;max-width: 100%;overflow: auto;}#sk-container-id-1 input.sk-toggleable__control:checked~label.sk-toggleable__label-arrow:before {content: \"▾\";}#sk-container-id-1 div.sk-estimator input.sk-toggleable__control:checked~label.sk-toggleable__label {background-color: #d4ebff;}#sk-container-id-1 div.sk-label input.sk-toggleable__control:checked~label.sk-toggleable__label {background-color: #d4ebff;}#sk-container-id-1 input.sk-hidden--visually {border: 0;clip: rect(1px 1px 1px 1px);clip: rect(1px, 1px, 1px, 1px);height: 1px;margin: -1px;overflow: hidden;padding: 0;position: absolute;width: 1px;}#sk-container-id-1 div.sk-estimator {font-family: monospace;background-color: #f0f8ff;border: 1px dotted black;border-radius: 0.25em;box-sizing: border-box;margin-bottom: 0.5em;}#sk-container-id-1 div.sk-estimator:hover {background-color: #d4ebff;}#sk-container-id-1 div.sk-parallel-item::after {content: \"\";width: 100%;border-bottom: 1px solid gray;flex-grow: 1;}#sk-container-id-1 div.sk-label:hover label.sk-toggleable__label {background-color: #d4ebff;}#sk-container-id-1 div.sk-serial::before {content: \"\";position: absolute;border-left: 1px solid gray;box-sizing: border-box;top: 0;bottom: 0;left: 50%;z-index: 0;}#sk-container-id-1 div.sk-serial {display: flex;flex-direction: column;align-items: center;background-color: white;padding-right: 0.2em;padding-left: 0.2em;position: relative;}#sk-container-id-1 div.sk-item {position: relative;z-index: 1;}#sk-container-id-1 div.sk-parallel {display: flex;align-items: stretch;justify-content: center;background-color: white;position: relative;}#sk-container-id-1 div.sk-item::before, #sk-container-id-1 div.sk-parallel-item::before {content: \"\";position: absolute;border-left: 1px solid gray;box-sizing: border-box;top: 0;bottom: 0;left: 50%;z-index: -1;}#sk-container-id-1 div.sk-parallel-item {display: flex;flex-direction: column;z-index: 1;position: relative;background-color: white;}#sk-container-id-1 div.sk-parallel-item:first-child::after {align-self: flex-end;width: 50%;}#sk-container-id-1 div.sk-parallel-item:last-child::after {align-self: flex-start;width: 50%;}#sk-container-id-1 div.sk-parallel-item:only-child::after {width: 0;}#sk-container-id-1 div.sk-dashed-wrapped {border: 1px dashed gray;margin: 0 0.4em 0.5em 0.4em;box-sizing: border-box;padding-bottom: 0.4em;background-color: white;}#sk-container-id-1 div.sk-label label {font-family: monospace;font-weight: bold;display: inline-block;line-height: 1.2em;}#sk-container-id-1 div.sk-label-container {text-align: center;}#sk-container-id-1 div.sk-container {/* jupyter's `normalize.less` sets `[hidden] { display: none; }` but bootstrap.min.css set `[hidden] { display: none !important; }` so we also need the `!important` here to be able to override the default hidden behavior on the sphinx rendered scikit-learn.org. See: https://github.com/scikit-learn/scikit-learn/issues/21755 */display: inline-block !important;position: relative;}#sk-container-id-1 div.sk-text-repr-fallback {display: none;}</style><div id=\"sk-container-id-1\" class=\"sk-top-container\"><div class=\"sk-text-repr-fallback\"><pre>DecisionTreeClassifier(criterion=&#x27;entropy&#x27;, random_state=21)</pre><b>In a Jupyter environment, please rerun this cell to show the HTML representation or trust the notebook. <br />On GitHub, the HTML representation is unable to render, please try loading this page with nbviewer.org.</b></div><div class=\"sk-container\" hidden><div class=\"sk-item\"><div class=\"sk-estimator sk-toggleable\"><input class=\"sk-toggleable__control sk-hidden--visually\" id=\"sk-estimator-id-1\" type=\"checkbox\" checked><label for=\"sk-estimator-id-1\" class=\"sk-toggleable__label sk-toggleable__label-arrow\">DecisionTreeClassifier</label><div class=\"sk-toggleable__content\"><pre>DecisionTreeClassifier(criterion=&#x27;entropy&#x27;, random_state=21)</pre></div></div></div></div></div>"
            ]
          },
          "metadata": {},
          "execution_count": 23
        }
      ]
    },
    {
      "cell_type": "markdown",
      "metadata": {
        "id": "iXT0yCoI07X8"
      },
      "source": [
        "## Predicting"
      ]
    },
    {
      "cell_type": "code",
      "source": [
        "print(classifier.predict(sc.transform([[31,41000]])))"
      ],
      "metadata": {
        "colab": {
          "base_uri": "https://localhost:8080/"
        },
        "id": "owrp0WXJGrlk",
        "outputId": "c424cbde-2339-4724-c1c9-fa8ac886f0c1"
      },
      "execution_count": 28,
      "outputs": [
        {
          "output_type": "stream",
          "name": "stdout",
          "text": [
            "[1]\n"
          ]
        }
      ]
    },
    {
      "cell_type": "markdown",
      "metadata": {
        "id": "9oG_iJfc1A0K"
      },
      "source": [
        "## Predicting Test set results"
      ]
    },
    {
      "cell_type": "code",
      "source": [
        "y_pred=classifier.predict(x_test)\n",
        "print(np.concatenate((y_pred.reshape(len(y_pred),1),y_test.reshape(len(y_test),1)),1))"
      ],
      "metadata": {
        "colab": {
          "base_uri": "https://localhost:8080/"
        },
        "id": "8k46ekixHk5a",
        "outputId": "aeafb84a-a25d-4fd0-c068-34630a08cb57"
      },
      "execution_count": 29,
      "outputs": [
        {
          "output_type": "stream",
          "name": "stdout",
          "text": [
            "[[0 0]\n",
            " [0 1]\n",
            " [1 1]\n",
            " [1 1]\n",
            " [0 1]\n",
            " [0 0]\n",
            " [0 0]\n",
            " [0 0]\n",
            " [1 0]\n",
            " [0 0]\n",
            " [0 0]\n",
            " [0 0]\n",
            " [1 1]\n",
            " [1 1]\n",
            " [0 0]\n",
            " [1 1]\n",
            " [0 0]\n",
            " [1 1]\n",
            " [1 0]\n",
            " [0 0]\n",
            " [0 1]\n",
            " [1 1]\n",
            " [0 0]\n",
            " [1 0]\n",
            " [1 0]\n",
            " [0 0]\n",
            " [0 0]\n",
            " [1 1]\n",
            " [0 0]\n",
            " [1 1]\n",
            " [1 1]\n",
            " [0 0]\n",
            " [1 1]\n",
            " [1 1]\n",
            " [0 0]\n",
            " [0 0]\n",
            " [1 1]\n",
            " [0 0]\n",
            " [1 1]\n",
            " [0 0]\n",
            " [0 0]\n",
            " [0 0]\n",
            " [0 0]\n",
            " [0 0]\n",
            " [1 1]\n",
            " [0 0]\n",
            " [0 0]\n",
            " [0 0]\n",
            " [1 0]\n",
            " [0 0]\n",
            " [0 0]\n",
            " [1 1]\n",
            " [1 0]\n",
            " [0 0]\n",
            " [1 1]\n",
            " [0 0]\n",
            " [0 0]\n",
            " [0 1]\n",
            " [0 0]\n",
            " [0 0]]\n"
          ]
        }
      ]
    },
    {
      "cell_type": "markdown",
      "metadata": {
        "id": "p6I0bJj_1Fxl"
      },
      "source": [
        "## Confusion Matrix"
      ]
    },
    {
      "cell_type": "code",
      "source": [
        "from sklearn.metrics import confusion_matrix,accuracy_score\n",
        "cm=confusion_matrix(y_test,y_pred)\n",
        "print(cm)\n",
        "accuracy_score(y_test,y_pred)"
      ],
      "metadata": {
        "colab": {
          "base_uri": "https://localhost:8080/"
        },
        "id": "u2Mng2jMIHyK",
        "outputId": "ad2a1858-1a3e-4c70-d961-3a14da0a1e0f"
      },
      "execution_count": 30,
      "outputs": [
        {
          "output_type": "stream",
          "name": "stdout",
          "text": [
            "[[33  6]\n",
            " [ 4 17]]\n"
          ]
        },
        {
          "output_type": "execute_result",
          "data": {
            "text/plain": [
              "0.8333333333333334"
            ]
          },
          "metadata": {},
          "execution_count": 30
        }
      ]
    },
    {
      "cell_type": "markdown",
      "metadata": {
        "id": "SO86fovR1MKy"
      },
      "source": [
        "## Visualizing Test Set results"
      ]
    },
    {
      "cell_type": "code",
      "source": [
        "from matplotlib.colors import ListedColormap\n",
        "X_set, y_set = sc.inverse_transform(x_test), y_test\n",
        "X1, X2 = np.meshgrid(np.arange(start = X_set[:, 0].min() - 0, stop = X_set[:, 0].max() + 10, step = 1),\n",
        "                     np.arange(start = X_set[:, 1].min() - 0, stop = X_set[:, 1].max() + 1000, step = 1))\n",
        "plt.contourf(X1, X2, classifier.predict(sc.transform(np.array([X1.ravel(), X2.ravel()]).T)).reshape(X1.shape),\n",
        "             alpha = 0.75, cmap = ListedColormap(('red', 'green')))\n",
        "plt.xlim(X1.min(), X1.max())\n",
        "plt.ylim(X2.min(), X2.max())\n",
        "for i, j in enumerate(np.unique(y_set)):\n",
        "    plt.scatter(X_set[y_set == j, 0], X_set[y_set == j, 1], c = ListedColormap(('red', 'green'))(i), label = j)\n",
        "plt.title('Decision Tree Classification (Test set)')\n",
        "plt.xlabel('Age')\n",
        "plt.ylabel('Cost of Device')\n",
        "plt.legend()\n",
        "plt.show()"
      ],
      "metadata": {
        "colab": {
          "base_uri": "https://localhost:8080/",
          "height": 350
        },
        "id": "n5ZrXaJAI9xN",
        "outputId": "544f815d-ca60-4622-ecdf-d8ffe313c6e8"
      },
      "execution_count": 32,
      "outputs": [
        {
          "output_type": "stream",
          "name": "stderr",
          "text": [
            "WARNING:matplotlib.axes._axes:*c* argument looks like a single numeric RGB or RGBA sequence, which should be avoided as value-mapping will have precedence in case its length matches with *x* & *y*.  Please use the *color* keyword-argument or provide a 2D array with a single row if you intend to specify the same RGB or RGBA value for all points.\n",
            "WARNING:matplotlib.axes._axes:*c* argument looks like a single numeric RGB or RGBA sequence, which should be avoided as value-mapping will have precedence in case its length matches with *x* & *y*.  Please use the *color* keyword-argument or provide a 2D array with a single row if you intend to specify the same RGB or RGBA value for all points.\n"
          ]
        },
        {
          "output_type": "display_data",
          "data": {
            "text/plain": [
              "<Figure size 432x288 with 1 Axes>"
            ],
            "image/png": "[encoded data removed]"
          },
          "metadata": {
            "needs_background": "light"
          }
        }
      ]
    },
    {
      "cell_type": "markdown",
      "metadata": {
        "id": "MokDuSCS1J0n"
      },
      "source": [
        "## Visualising Training set results"
      ]
    },
    {
      "cell_type": "code",
      "source": [
        "from matplotlib.colors import ListedColormap\n",
        "X_set, y_set = sc.inverse_transform(x_train), y_train\n",
        "X1, X2 = np.meshgrid(np.arange(start = X_set[:, 0].min() - 0, stop = X_set[:, 0].max() + 10, step = 1),\n",
        "                     np.arange(start = X_set[:, 1].min() - 0, stop = X_set[:, 1].max() + 1000, step = 1))\n",
        "plt.contourf(X1, X2, classifier.predict(sc.transform(np.array([X1.ravel(), X2.ravel()]).T)).reshape(X1.shape),\n",
        "             alpha = 0.75, cmap = ListedColormap(('red', 'green')))\n",
        "plt.xlim(X1.min(), X1.max())\n",
        "plt.ylim(X2.min(), X2.max())\n",
        "for i, j in enumerate(np.unique(y_set)):\n",
        "    plt.scatter(X_set[y_set == j, 0], X_set[y_set == j, 1], c = ListedColormap(('red', 'green'))(i), label = j)\n",
        "plt.title('Decision Tree Classification (Training set)')\n",
        "plt.xlabel('Age')\n",
        "plt.ylabel('Cost of Device')\n",
        "plt.legend()\n",
        "plt.show()"
      ],
      "metadata": {
        "colab": {
          "base_uri": "https://localhost:8080/",
          "height": 350
        },
        "id": "0SJwfxBiJM-e",
        "outputId": "8045a203-1be8-4cd9-fe24-823f2ed466e9"
      },
      "execution_count": 34,
      "outputs": [
        {
          "output_type": "stream",
          "name": "stderr",
          "text": [
            "WARNING:matplotlib.axes._axes:*c* argument looks like a single numeric RGB or RGBA sequence, which should be avoided as value-mapping will have precedence in case its length matches with *x* & *y*.  Please use the *color* keyword-argument or provide a 2D array with a single row if you intend to specify the same RGB or RGBA value for all points.\n",
            "WARNING:matplotlib.axes._axes:*c* argument looks like a single numeric RGB or RGBA sequence, which should be avoided as value-mapping will have precedence in case its length matches with *x* & *y*.  Please use the *color* keyword-argument or provide a 2D array with a single row if you intend to specify the same RGB or RGBA value for all points.\n"
          ]
        },
        {
          "output_type": "display_data",
          "data": {
            "text/plain": [
              "<Figure size 432x288 with 1 Axes>"
            ],
            "image/png": "[encoded data removed]"
          },
          "metadata": {
            "needs_background": "light"
          }
        }
      ]
    }
  ]
}
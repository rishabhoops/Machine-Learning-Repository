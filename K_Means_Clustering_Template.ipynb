{
  "nbformat": 4,
  "nbformat_minor": 0,
  "metadata": {
    "colab": {
      "provenance": [],
      "include_colab_link": true
    },
    "kernelspec": {
      "name": "python3",
      "display_name": "Python 3"
    }
  },
  "cells": [
    {
      "cell_type": "markdown",
      "metadata": {
        "id": "view-in-github",
        "colab_type": "text"
      },
      "source": [
        "<a href=\"https://colab.research.google.com/github/rishabhoops/Machine-Learning-Repository/blob/main/K_Means_Clustering_Template.ipynb\" target=\"_parent\"><img src=\"https://colab.research.google.com/assets/colab-badge.svg\" alt=\"Open In Colab\"/></a>"
      ]
    },
    {
      "cell_type": "markdown",
      "metadata": {
        "id": "Z-jZGC0q0aiY"
      },
      "source": [
        "# K Means Clustering"
      ]
    },
    {
      "cell_type": "markdown",
      "metadata": {
        "id": "jE4Rc_OO0eJM"
      },
      "source": [
        "## Importing libraries"
      ]
    },
    {
      "cell_type": "code",
      "source": [
        "import numpy as np\n",
        "import matplotlib.pyplot as plt\n",
        "import pandas as pd"
      ],
      "metadata": {
        "id": "Rqmry1Fk9KS-"
      },
      "execution_count": 1,
      "outputs": []
    },
    {
      "cell_type": "markdown",
      "metadata": {
        "id": "A9-xGHd20gY1"
      },
      "source": [
        "## Importing dataset"
      ]
    },
    {
      "cell_type": "code",
      "source": [
        "dataset = pd.read_csv(\"/content/Amazon.com Clusturing Model (Pr.csv\")\n",
        "x=dataset.iloc[:,[2,4]].values"
      ],
      "metadata": {
        "id": "VGlzsfzv9bci"
      },
      "execution_count": 25,
      "outputs": []
    },
    {
      "cell_type": "code",
      "source": [
        "print(x)"
      ],
      "metadata": {
        "colab": {
          "base_uri": "https://localhost:8080/"
        },
        "id": "_At_G1mGPnNk",
        "outputId": "4d9205b4-b20c-49b4-afc0-0773ac273c69"
      },
      "execution_count": 26,
      "outputs": [
        {
          "output_type": "stream",
          "name": "stdout",
          "text": [
            "[[ 23  44]\n",
            " [ 26  91]\n",
            " [ 24   7]\n",
            " [ 28  87]\n",
            " [ 38  45]\n",
            " [ 27  86]\n",
            " [ 42   7]\n",
            " [ 28 106]\n",
            " [ 77   4]\n",
            " [ 36  81]\n",
            " [ 81  16]\n",
            " [ 42 111]\n",
            " [ 70  17]\n",
            " [ 29  87]\n",
            " [ 45  15]\n",
            " [ 27  89]\n",
            " [ 42  40]\n",
            " [ 24  74]\n",
            " [ 63  33]\n",
            " [ 42 110]\n",
            " [ 42  40]\n",
            " [ 30  82]\n",
            " [ 56   6]\n",
            " [ 38  82]\n",
            " [ 65  16]\n",
            " [ 35  92]\n",
            " [ 54  36]\n",
            " [ 42  69]\n",
            " [ 48  35]\n",
            " [ 28  98]\n",
            " [ 72   5]\n",
            " [ 26  82]\n",
            " [ 64   5]\n",
            " [ 22 104]\n",
            " [ 59  16]\n",
            " [ 26  91]\n",
            " [ 51  20]\n",
            " [ 36  82]\n",
            " [ 44  30]\n",
            " [ 24  84]\n",
            " [ 78  40]\n",
            " [ 29 104]\n",
            " [ 58  41]\n",
            " [ 38  69]\n",
            " [ 59  32]\n",
            " [ 29  73]\n",
            " [ 60  62]\n",
            " [ 33  53]\n",
            " [ 35  48]\n",
            " [ 38  48]\n",
            " [ 59  59]\n",
            " [ 40  68]\n",
            " [ 38  61]\n",
            " [ 71  68]\n",
            " [ 60  51]\n",
            " [ 57  46]\n",
            " [ 62  56]\n",
            " [ 83  52]\n",
            " [ 33  58]\n",
            " [ 64  52]\n",
            " [ 84  63]\n",
            " [ 23  62]\n",
            " [ 81  59]\n",
            " [ 65  67]\n",
            " [ 76  58]\n",
            " [ 22  67]\n",
            " [ 52  56]\n",
            " [ 82  54]\n",
            " [ 23  67]\n",
            " [ 39  53]\n",
            " [ 84  62]\n",
            " [ 57  48]\n",
            " [ 72  55]\n",
            " [ 72  63]\n",
            " [ 71  53]\n",
            " [ 32  61]\n",
            " [ 54  60]\n",
            " [ 48  54]\n",
            " [ 28  59]\n",
            " [ 59  48]\n",
            " [ 69  58]\n",
            " [ 46  62]\n",
            " [ 81  46]\n",
            " [ 56  50]\n",
            " [ 26  64]\n",
            " [ 58  52]\n",
            " [ 66  65]\n",
            " [ 27  62]\n",
            " [ 41  68]\n",
            " [ 60  52]\n",
            " [ 82  62]\n",
            " [ 22  46]\n",
            " [ 58  55]\n",
            " [ 48  45]\n",
            " [ 39  48]\n",
            " [ 29  59]\n",
            " [ 57  53]\n",
            " [ 33  56]\n",
            " [ 58  48]\n",
            " [ 24  55]\n",
            " [ 28  46]\n",
            " [ 59  54]\n",
            " [ 81  67]\n",
            " [ 32  62]\n",
            " [ 59  63]\n",
            " [ 26  48]\n",
            " [ 80  56]\n",
            " [ 65  52]\n",
            " [ 82  49]\n",
            " [ 80  54]\n",
            " [ 78  59]\n",
            " [ 23  61]\n",
            " [ 46  48]\n",
            " [ 23  52]\n",
            " [ 22  54]\n",
            " [ 23  56]\n",
            " [ 76  49]\n",
            " [ 59  67]\n",
            " [ 62  49]\n",
            " [ 60  64]\n",
            " [ 33  63]\n",
            " [ 46  45]\n",
            " [ 48  65]\n",
            " [ 47 102]\n",
            " [ 28  33]\n",
            " [ 38  87]\n",
            " [ 52  40]\n",
            " [ 48 107]\n",
            " [ 71  13]\n",
            " [ 46  84]\n",
            " [ 57  11]\n",
            " [ 47  84]\n",
            " [ 30  39]\n",
            " [ 38  80]\n",
            " [ 24   6]\n",
            " [ 35  99]\n",
            " [ 53   8]\n",
            " [ 39  82]\n",
            " [ 23  12]\n",
            " [ 42  81]\n",
            " [ 69   6]\n",
            " [ 39 105]\n",
            " [ 34  45]\n",
            " [ 39  98]\n",
            " [ 30  14]\n",
            " [ 34 109]\n",
            " [ 58  41]\n",
            " [ 39  83]\n",
            " [ 41  25]\n",
            " [ 41 101]\n",
            " [ 52  20]\n",
            " [ 47  99]\n",
            " [ 53  23]\n",
            " [ 46  86]\n",
            " [ 57  18]\n",
            " [ 33 100]\n",
            " [ 45   2]\n",
            " [ 36  88]\n",
            " [ 41   2]\n",
            " [ 36  82]\n",
            " [ 68  40]\n",
            " [ 35  93]\n",
            " [ 23   6]\n",
            " [ 38 105]\n",
            " [ 60  30]\n",
            " [ 44  84]\n",
            " [ 51  23]\n",
            " [ 40 107]\n",
            " [ 44  31]\n",
            " [ 39  71]\n",
            " [ 48  15]\n",
            " [ 34  84]\n",
            " [ 44  12]\n",
            " [ 44 104]\n",
            " [ 63  15]\n",
            " [ 36  97]\n",
            " [ 70  17]\n",
            " [ 33  78]\n",
            " [ 71  16]\n",
            " [ 42 101]\n",
            " [ 45  36]\n",
            " [ 39  97]\n",
            " [ 56  17]\n",
            " [ 35  99]\n",
            " [ 50  44]\n",
            " [ 36 109]\n",
            " [ 65  27]\n",
            " [ 34  77]\n",
            " [ 50  20]\n",
            " [ 44  96]\n",
            " [ 41  26]\n",
            " [ 39  78]\n",
            " [ 40   9]\n",
            " [ 46 102]\n",
            " [ 57  18]\n",
            " [ 42  89]\n",
            " [ 54  32]\n",
            " [ 39  83]\n",
            " [ 39  21]\n",
            " [ 36  93]]\n"
          ]
        }
      ]
    },
    {
      "cell_type": "markdown",
      "metadata": {
        "id": "8REFJFGC0lRN"
      },
      "source": [
        "## Optimal number of clusters via Elbow Method"
      ]
    },
    {
      "cell_type": "code",
      "source": [
        "from sklearn.cluster import KMeans\n",
        "wcss=[]\n",
        "for i in range(1,11):\n",
        "  kmeans=KMeans(n_clusters=i,init='k-means++',random_state=21)\n",
        "  kmeans.fit(x)\n",
        "  wcss.append(kmeans.inertia_)\n",
        "plt.plot(range(1,11),wcss)\n",
        "plt.title('WCSS Via Elbow Method')\n",
        "plt.xlabel('Numbers of Cluster')\n",
        "plt.ylabel('Wcss Values')\n",
        "\n",
        "plt.show()"
      ],
      "metadata": {
        "colab": {
          "base_uri": "https://localhost:8080/",
          "height": 662
        },
        "id": "veGhNwFyP_Sn",
        "outputId": "d3657575-0703-4b06-9271-a43104889764"
      },
      "execution_count": 28,
      "outputs": [
        {
          "output_type": "stream",
          "name": "stderr",
          "text": [
            "/usr/local/lib/python3.9/dist-packages/sklearn/cluster/_kmeans.py:870: FutureWarning: The default value of `n_init` will change from 10 to 'auto' in 1.4. Set the value of `n_init` explicitly to suppress the warning\n",
            "  warnings.warn(\n",
            "/usr/local/lib/python3.9/dist-packages/sklearn/cluster/_kmeans.py:870: FutureWarning: The default value of `n_init` will change from 10 to 'auto' in 1.4. Set the value of `n_init` explicitly to suppress the warning\n",
            "  warnings.warn(\n",
            "/usr/local/lib/python3.9/dist-packages/sklearn/cluster/_kmeans.py:870: FutureWarning: The default value of `n_init` will change from 10 to 'auto' in 1.4. Set the value of `n_init` explicitly to suppress the warning\n",
            "  warnings.warn(\n",
            "/usr/local/lib/python3.9/dist-packages/sklearn/cluster/_kmeans.py:870: FutureWarning: The default value of `n_init` will change from 10 to 'auto' in 1.4. Set the value of `n_init` explicitly to suppress the warning\n",
            "  warnings.warn(\n",
            "/usr/local/lib/python3.9/dist-packages/sklearn/cluster/_kmeans.py:870: FutureWarning: The default value of `n_init` will change from 10 to 'auto' in 1.4. Set the value of `n_init` explicitly to suppress the warning\n",
            "  warnings.warn(\n",
            "/usr/local/lib/python3.9/dist-packages/sklearn/cluster/_kmeans.py:870: FutureWarning: The default value of `n_init` will change from 10 to 'auto' in 1.4. Set the value of `n_init` explicitly to suppress the warning\n",
            "  warnings.warn(\n",
            "/usr/local/lib/python3.9/dist-packages/sklearn/cluster/_kmeans.py:870: FutureWarning: The default value of `n_init` will change from 10 to 'auto' in 1.4. Set the value of `n_init` explicitly to suppress the warning\n",
            "  warnings.warn(\n",
            "/usr/local/lib/python3.9/dist-packages/sklearn/cluster/_kmeans.py:870: FutureWarning: The default value of `n_init` will change from 10 to 'auto' in 1.4. Set the value of `n_init` explicitly to suppress the warning\n",
            "  warnings.warn(\n",
            "/usr/local/lib/python3.9/dist-packages/sklearn/cluster/_kmeans.py:870: FutureWarning: The default value of `n_init` will change from 10 to 'auto' in 1.4. Set the value of `n_init` explicitly to suppress the warning\n",
            "  warnings.warn(\n",
            "/usr/local/lib/python3.9/dist-packages/sklearn/cluster/_kmeans.py:870: FutureWarning: The default value of `n_init` will change from 10 to 'auto' in 1.4. Set the value of `n_init` explicitly to suppress the warning\n",
            "  warnings.warn(\n"
          ]
        },
        {
          "output_type": "display_data",
          "data": {
            "text/plain": [
              "<Figure size 432x288 with 1 Axes>"
            ],
            "image/png": "[encoded data removed]"
          },
          "metadata": {
            "needs_background": "light"
          }
        }
      ]
    },
    {
      "cell_type": "markdown",
      "metadata": {
        "id": "2QUFYaoH00H6"
      },
      "source": [
        "## K Means Model Training on Training set"
      ]
    },
    {
      "cell_type": "code",
      "source": [
        "\n",
        "kmeans=KMeans(n_clusters=4,init='k-means++',random_state=42)\n",
        "y_means=kmeans.fit_predict(x)"
      ],
      "metadata": {
        "colab": {
          "base_uri": "https://localhost:8080/"
        },
        "id": "TH3KBobcTzlW",
        "outputId": "01193934-67c7-4f93-8bb9-aaf74f46d1b3"
      },
      "execution_count": 29,
      "outputs": [
        {
          "output_type": "stream",
          "name": "stderr",
          "text": [
            "/usr/local/lib/python3.9/dist-packages/sklearn/cluster/_kmeans.py:870: FutureWarning: The default value of `n_init` will change from 10 to 'auto' in 1.4. Set the value of `n_init` explicitly to suppress the warning\n",
            "  warnings.warn(\n"
          ]
        }
      ]
    },
    {
      "cell_type": "code",
      "source": [
        "print(y_means)"
      ],
      "metadata": {
        "colab": {
          "base_uri": "https://localhost:8080/"
        },
        "id": "ZEHuS72HUI6h",
        "outputId": "8d31b877-987b-4adc-a6f0-072ae36c7f29"
      },
      "execution_count": 30,
      "outputs": [
        {
          "output_type": "stream",
          "name": "stdout",
          "text": [
            "[3 2 1 2 3 2 1 2 1 2 1 2 1 2 1 2 3 3 1 2 3 2 1 2 1 2 1 3 1 2 1 2 1 2 1 2 1\n",
            " 2 1 2 0 2 0 3 1 3 0 3 3 3 0 3 3 0 0 0 0 0 3 0 0 3 0 0 0 3 0 0 3 3 0 0 0 0\n",
            " 0 3 0 3 3 0 0 3 0 0 3 0 0 3 3 0 0 3 0 3 3 3 0 3 0 3 3 0 0 3 0 3 0 0 0 0 0\n",
            " 3 3 3 3 3 0 0 0 0 3 3 3 2 3 2 0 2 1 2 1 2 3 2 1 2 1 2 1 2 1 2 3 2 1 2 0 2\n",
            " 1 2 1 2 1 2 1 2 1 2 1 2 0 2 1 2 1 2 1 2 1 3 1 2 1 2 1 2 1 2 1 2 1 2 1 2 0\n",
            " 2 1 2 1 2 1 2 1 2 1 2 1 2 1 2]\n"
          ]
        }
      ]
    },
    {
      "cell_type": "markdown",
      "metadata": {
        "id": "-Dw4Khi70u9g"
      },
      "source": [
        "## Visualizing Clusters"
      ]
    },
    {
      "cell_type": "code",
      "source": [
        "plt.scatter(x[y_means==0,0],x[y_means==0,1],s=100,c='magenta',label='Cluster-1')\n",
        "plt.scatter(x[y_means==1,0],x[y_means==1,1],s=100,c='blue',label='Cluster-2')\n",
        "plt.scatter(x[y_means==2,0],x[y_means==2,1],s=100,c='red',label='Cluster-3')\n",
        "plt.scatter(x[y_means==3,0],x[y_means==3,1],s=100,c='cyan',label='Cluster-4')\n",
        "plt.scatter(kmeans.cluster_centers_[:, 0], kmeans.cluster_centers_[:, 1], s = 300, c = 'black', label = 'Centroids')\n",
        "plt.title('Cluster of Amazon users')\n",
        "plt.xlabel('Age')\n",
        "plt.ylabel('Purchase Rating')\n",
        "plt.legend()\n",
        "plt.show()"
      ],
      "metadata": {
        "colab": {
          "base_uri": "https://localhost:8080/",
          "height": 295
        },
        "id": "ShXvGvPgU1ta",
        "outputId": "fc088302-5925-4669-ac85-eab3fab5f6d6"
      },
      "execution_count": 31,
      "outputs": [
        {
          "output_type": "display_data",
          "data": {
            "text/plain": [
              "<Figure size 432x288 with 1 Axes>"
            ],
            "image/png": "[encoded data removed]"
          },
          "metadata": {
            "needs_background": "light"
          }
        }
      ]
    }
  ]
}
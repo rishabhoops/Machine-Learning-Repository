{
  "nbformat": 4,
  "nbformat_minor": 0,
  "metadata": {
    "colab": {
      "provenance": [],
      "include_colab_link": true
    },
    "kernelspec": {
      "name": "python3",
      "display_name": "Python 3"
    }
  },
  "cells": [
    {
      "cell_type": "markdown",
      "metadata": {
        "id": "view-in-github",
        "colab_type": "text"
      },
      "source": [
        "<a href=\"https://colab.research.google.com/github/rishabhoops/Machine-Learning-Repository/blob/main/ANN_Template.ipynb\" target=\"_parent\"><img src=\"https://colab.research.google.com/assets/colab-badge.svg\" alt=\"Open In Colab\"/></a>"
      ]
    },
    {
      "cell_type": "markdown",
      "metadata": {
        "id": "Z-jZGC0q0aiY"
      },
      "source": [
        "# Deep Learning via ANN"
      ]
    },
    {
      "cell_type": "markdown",
      "metadata": {
        "id": "jE4Rc_OO0eJM"
      },
      "source": [
        "## Importing libraries"
      ]
    },
    {
      "cell_type": "code",
      "metadata": {
        "id": "PTBjYh8iyvVK"
      },
      "source": [
        "import numpy as np\n",
        "import pandas as pd\n",
        "import tensorflow as tf"
      ],
      "execution_count": 1,
      "outputs": []
    },
    {
      "cell_type": "code",
      "metadata": {
        "colab": {
          "base_uri": "https://localhost:8080/",
          "height": 35
        },
        "id": "o0Yhbfo4x39t",
        "outputId": "c9bb5f1f-a39a-44ed-e3db-9f0f982d4857"
      },
      "source": [
        "tf.__version__"
      ],
      "execution_count": 2,
      "outputs": [
        {
          "output_type": "execute_result",
          "data": {
            "text/plain": [
              "'2.11.0'"
            ],
            "application/vnd.google.colaboratory.intrinsic+json": {
              "type": "string"
            }
          },
          "metadata": {},
          "execution_count": 2
        }
      ]
    },
    {
      "cell_type": "markdown",
      "metadata": {
        "id": "A9-xGHd20gY1"
      },
      "source": [
        "## Importing dataset"
      ]
    },
    {
      "cell_type": "code",
      "metadata": {
        "id": "IeX0-BBoyxsw"
      },
      "source": [
        "dataset = pd.read_csv('/content/American Express User Exit Pred.csv')\n",
        "X = dataset.iloc[:, 0:-1].values\n",
        "y = dataset.iloc[:, -1].values"
      ],
      "execution_count": 3,
      "outputs": []
    },
    {
      "cell_type": "code",
      "metadata": {
        "colab": {
          "base_uri": "https://localhost:8080/"
        },
        "id": "WAFCffJ-06iL",
        "outputId": "0af8e8d1-f28b-423e-baa0-2e71d8831aed"
      },
      "source": [
        "print(X)"
      ],
      "execution_count": 4,
      "outputs": [
        {
          "output_type": "stream",
          "name": "stdout",
          "text": [
            "[[553 'Delhi' 'Female' ... 4 1 274150]\n",
            " [447 'Bengaluru' 'Male' ... 4 1 519360]\n",
            " [501 'Delhi' 'Female' ... 4 1 545501]\n",
            " ...\n",
            " [627 'Mumbai' 'Female' ... 4 0 494067]\n",
            " [600 'Bengaluru' 'Female' ... 2 1 109375]\n",
            " [553 'Delhi' 'Male' ... 4 1 180031]]\n"
          ]
        }
      ]
    },
    {
      "cell_type": "markdown",
      "metadata": {
        "id": "Q_e8LuHYyX5r"
      },
      "source": [
        "## Encoding categorical data"
      ]
    },
    {
      "cell_type": "markdown",
      "metadata": {
        "id": "NFKMHJzhy4pE"
      },
      "source": [
        "### Gender column : Label Encoding"
      ]
    },
    {
      "cell_type": "code",
      "metadata": {
        "id": "_P_m9jU0yr1A"
      },
      "source": [
        "from sklearn.preprocessing import LabelEncoder\n",
        "label_encoder = LabelEncoder()\n",
        "X[:, 2] = label_encoder.fit_transform(X[:, 2])"
      ],
      "execution_count": 5,
      "outputs": []
    },
    {
      "cell_type": "code",
      "metadata": {
        "colab": {
          "base_uri": "https://localhost:8080/"
        },
        "id": "biOnK7s2yvt-",
        "outputId": "39d167a6-5d22-4368-fd94-37d57c953212"
      },
      "source": [
        "print(X)"
      ],
      "execution_count": 6,
      "outputs": [
        {
          "output_type": "stream",
          "name": "stdout",
          "text": [
            "[[553 'Delhi' 0 ... 4 1 274150]\n",
            " [447 'Bengaluru' 1 ... 4 1 519360]\n",
            " [501 'Delhi' 0 ... 4 1 545501]\n",
            " ...\n",
            " [627 'Mumbai' 0 ... 4 0 494067]\n",
            " [600 'Bengaluru' 0 ... 2 1 109375]\n",
            " [553 'Delhi' 1 ... 4 1 180031]]\n"
          ]
        }
      ]
    },
    {
      "cell_type": "markdown",
      "metadata": {
        "id": "W27VpQo7zRUo"
      },
      "source": [
        "### Geography column : One hot Encoding"
      ]
    },
    {
      "cell_type": "code",
      "metadata": {
        "id": "-2TRCRO8zVly"
      },
      "source": [
        "from sklearn.compose import ColumnTransformer\n",
        "from sklearn.preprocessing import OneHotEncoder\n",
        "ct = ColumnTransformer(transformers=[('encoder', OneHotEncoder(), [1])], remainder='passthrough')\n",
        "X = np.array(ct.fit_transform(X))"
      ],
      "execution_count": 7,
      "outputs": []
    },
    {
      "cell_type": "code",
      "metadata": {
        "colab": {
          "base_uri": "https://localhost:8080/"
        },
        "id": "Lt13uSQ8ziR4",
        "outputId": "603f3a3d-86d9-42ee-c9bb-2f3023c9c4b8"
      },
      "source": [
        "print(X)"
      ],
      "execution_count": 8,
      "outputs": [
        {
          "output_type": "stream",
          "name": "stdout",
          "text": [
            "[[0.0 1.0 0.0 ... 4 1 274150]\n",
            " [1.0 0.0 0.0 ... 4 1 519360]\n",
            " [0.0 1.0 0.0 ... 4 1 545501]\n",
            " ...\n",
            " [0.0 0.0 1.0 ... 4 0 494067]\n",
            " [1.0 0.0 0.0 ... 2 1 109375]\n",
            " [0.0 1.0 0.0 ... 4 1 180031]]\n"
          ]
        }
      ]
    },
    {
      "cell_type": "markdown",
      "metadata": {
        "id": "8REFJFGC0lRN"
      },
      "source": [
        "## Splitting dataset into Training & Test set"
      ]
    },
    {
      "cell_type": "code",
      "metadata": {
        "id": "Cs6amFsNy4Ri"
      },
      "source": [
        "from sklearn.model_selection import train_test_split\n",
        "X_train, X_test, y_train, y_test = train_test_split(X, y, test_size = 0.2, random_state = 0)"
      ],
      "execution_count": 9,
      "outputs": []
    },
    {
      "cell_type": "markdown",
      "metadata": {
        "id": "9WJ3OvMf2Mpz"
      },
      "source": [
        "## Feature Scaling"
      ]
    },
    {
      "cell_type": "code",
      "metadata": {
        "id": "_lPukZ7C2PYR"
      },
      "source": [
        "from sklearn.preprocessing import StandardScaler\n",
        "sc = StandardScaler()\n",
        "X_train = sc.fit_transform(X_train)\n",
        "X_test = sc.transform(X_test)"
      ],
      "execution_count": 10,
      "outputs": []
    },
    {
      "cell_type": "markdown",
      "metadata": {
        "id": "2QUFYaoH00H6"
      },
      "source": [
        "## ANN"
      ]
    },
    {
      "cell_type": "markdown",
      "metadata": {
        "id": "fmmakWMe2Xe0"
      },
      "source": [
        "### Initialization"
      ]
    },
    {
      "cell_type": "code",
      "metadata": {
        "id": "2iFA5Qkn49UW"
      },
      "source": [
        "ann = tf.keras.models.Sequential()"
      ],
      "execution_count": 11,
      "outputs": []
    },
    {
      "cell_type": "markdown",
      "metadata": {
        "id": "oZs3tLKX2a0c"
      },
      "source": [
        "### Adding input layer and first hidden layer"
      ]
    },
    {
      "cell_type": "code",
      "metadata": {
        "id": "BqUEsAVP5Gp7"
      },
      "source": [
        "ann.add(tf.keras.layers.Dense(units=6, activation='relu'))"
      ],
      "execution_count": 12,
      "outputs": []
    },
    {
      "cell_type": "markdown",
      "metadata": {
        "id": "3VMq7Dzx2inS"
      },
      "source": [
        "### Adding second hidden layer"
      ]
    },
    {
      "cell_type": "code",
      "metadata": {
        "id": "5iqN64Qb5XpM"
      },
      "source": [
        "ann.add(tf.keras.layers.Dense(units=6, activation='relu'))"
      ],
      "execution_count": 13,
      "outputs": []
    },
    {
      "cell_type": "markdown",
      "metadata": {
        "id": "rf0PPM2O2mY4"
      },
      "source": [
        "### Adding output layer"
      ]
    },
    {
      "cell_type": "code",
      "metadata": {
        "id": "16bVnSmy5izv"
      },
      "source": [
        "ann.add(tf.keras.layers.Dense(units=1, activation='sigmoid'))"
      ],
      "execution_count": 14,
      "outputs": []
    },
    {
      "cell_type": "markdown",
      "metadata": {
        "id": "-Dw4Khi70u9g"
      },
      "source": [
        "## ANN Training"
      ]
    },
    {
      "cell_type": "markdown",
      "metadata": {
        "id": "3DGW0tMz6vZF"
      },
      "source": [
        "### Compiling ANN"
      ]
    },
    {
      "cell_type": "code",
      "metadata": {
        "id": "qpRleG206-Cy"
      },
      "source": [
        "ann.compile(optimizer = 'adam', loss = 'binary_crossentropy', metrics = ['accuracy'])"
      ],
      "execution_count": 15,
      "outputs": []
    },
    {
      "cell_type": "markdown",
      "metadata": {
        "id": "JcIyviNr2tiO"
      },
      "source": [
        "### Training on training dataset"
      ]
    },
    {
      "cell_type": "code",
      "metadata": {
        "colab": {
          "base_uri": "https://localhost:8080/"
        },
        "id": "U411c0oi5pGF",
        "outputId": "647d0efc-8bc0-4fce-f989-62ad505acfd1"
      },
      "source": [
        "ann.fit(X_train, y_train, batch_size = 32, epochs = 120)"
      ],
      "execution_count": 16,
      "outputs": [
        {
          "output_type": "stream",
          "name": "stdout",
          "text": [
            "Epoch 1/120\n",
            "249/249 [==============================] - 2s 2ms/step - loss: 0.5291 - accuracy: 0.7956\n",
            "Epoch 2/120\n",
            "249/249 [==============================] - 0s 2ms/step - loss: 0.4697 - accuracy: 0.7966\n",
            "Epoch 3/120\n",
            "249/249 [==============================] - 0s 2ms/step - loss: 0.4468 - accuracy: 0.7966\n",
            "Epoch 4/120\n",
            "249/249 [==============================] - 0s 2ms/step - loss: 0.4366 - accuracy: 0.7966\n",
            "Epoch 5/120\n",
            "249/249 [==============================] - 0s 2ms/step - loss: 0.4323 - accuracy: 0.7966\n",
            "Epoch 6/120\n",
            "249/249 [==============================] - 0s 2ms/step - loss: 0.4300 - accuracy: 0.7966\n",
            "Epoch 7/120\n",
            "249/249 [==============================] - 1s 2ms/step - loss: 0.4285 - accuracy: 0.7966\n",
            "Epoch 8/120\n",
            "249/249 [==============================] - 1s 2ms/step - loss: 0.4272 - accuracy: 0.7966\n",
            "Epoch 9/120\n",
            "249/249 [==============================] - 1s 2ms/step - loss: 0.4261 - accuracy: 0.7966\n",
            "Epoch 10/120\n",
            "249/249 [==============================] - 1s 3ms/step - loss: 0.4249 - accuracy: 0.7966\n",
            "Epoch 11/120\n",
            "249/249 [==============================] - 1s 2ms/step - loss: 0.4240 - accuracy: 0.7966\n",
            "Epoch 12/120\n",
            "249/249 [==============================] - 0s 2ms/step - loss: 0.4230 - accuracy: 0.7966\n",
            "Epoch 13/120\n",
            "249/249 [==============================] - 0s 2ms/step - loss: 0.4219 - accuracy: 0.7989\n",
            "Epoch 14/120\n",
            "249/249 [==============================] - 0s 2ms/step - loss: 0.4209 - accuracy: 0.8039\n",
            "Epoch 15/120\n",
            "249/249 [==============================] - 0s 2ms/step - loss: 0.4197 - accuracy: 0.8053\n",
            "Epoch 16/120\n",
            "249/249 [==============================] - 0s 2ms/step - loss: 0.4183 - accuracy: 0.8102\n",
            "Epoch 17/120\n",
            "249/249 [==============================] - 0s 2ms/step - loss: 0.4167 - accuracy: 0.8130\n",
            "Epoch 18/120\n",
            "249/249 [==============================] - 0s 2ms/step - loss: 0.4150 - accuracy: 0.8138\n",
            "Epoch 19/120\n",
            "249/249 [==============================] - 0s 2ms/step - loss: 0.4132 - accuracy: 0.8156\n",
            "Epoch 20/120\n",
            "249/249 [==============================] - 0s 2ms/step - loss: 0.4113 - accuracy: 0.8164\n",
            "Epoch 21/120\n",
            "249/249 [==============================] - 0s 2ms/step - loss: 0.4091 - accuracy: 0.8177\n",
            "Epoch 22/120\n",
            "249/249 [==============================] - 0s 2ms/step - loss: 0.4062 - accuracy: 0.8207\n",
            "Epoch 23/120\n",
            "249/249 [==============================] - 0s 2ms/step - loss: 0.4027 - accuracy: 0.8241\n",
            "Epoch 24/120\n",
            "249/249 [==============================] - 0s 2ms/step - loss: 0.3988 - accuracy: 0.8284\n",
            "Epoch 25/120\n",
            "249/249 [==============================] - 0s 2ms/step - loss: 0.3954 - accuracy: 0.8302\n",
            "Epoch 26/120\n",
            "249/249 [==============================] - 0s 2ms/step - loss: 0.3921 - accuracy: 0.8315\n",
            "Epoch 27/120\n",
            "249/249 [==============================] - 0s 2ms/step - loss: 0.3885 - accuracy: 0.8349\n",
            "Epoch 28/120\n",
            "249/249 [==============================] - 0s 2ms/step - loss: 0.3851 - accuracy: 0.8368\n",
            "Epoch 29/120\n",
            "249/249 [==============================] - 0s 2ms/step - loss: 0.3818 - accuracy: 0.8377\n",
            "Epoch 30/120\n",
            "249/249 [==============================] - 0s 2ms/step - loss: 0.3784 - accuracy: 0.8396\n",
            "Epoch 31/120\n",
            "249/249 [==============================] - 0s 2ms/step - loss: 0.3755 - accuracy: 0.8399\n",
            "Epoch 32/120\n",
            "249/249 [==============================] - 0s 2ms/step - loss: 0.3732 - accuracy: 0.8425\n",
            "Epoch 33/120\n",
            "249/249 [==============================] - 0s 2ms/step - loss: 0.3709 - accuracy: 0.8423\n",
            "Epoch 34/120\n",
            "249/249 [==============================] - 0s 2ms/step - loss: 0.3684 - accuracy: 0.8433\n",
            "Epoch 35/120\n",
            "249/249 [==============================] - 1s 3ms/step - loss: 0.3671 - accuracy: 0.8437\n",
            "Epoch 36/120\n",
            "249/249 [==============================] - 1s 2ms/step - loss: 0.3659 - accuracy: 0.8442\n",
            "Epoch 37/120\n",
            "249/249 [==============================] - 1s 2ms/step - loss: 0.3644 - accuracy: 0.8440\n",
            "Epoch 38/120\n",
            "249/249 [==============================] - 1s 2ms/step - loss: 0.3634 - accuracy: 0.8465\n",
            "Epoch 39/120\n",
            "249/249 [==============================] - 1s 3ms/step - loss: 0.3626 - accuracy: 0.8466\n",
            "Epoch 40/120\n",
            "249/249 [==============================] - 0s 2ms/step - loss: 0.3618 - accuracy: 0.8459\n",
            "Epoch 41/120\n",
            "249/249 [==============================] - 0s 2ms/step - loss: 0.3613 - accuracy: 0.8460\n",
            "Epoch 42/120\n",
            "249/249 [==============================] - 0s 2ms/step - loss: 0.3605 - accuracy: 0.8464\n",
            "Epoch 43/120\n",
            "249/249 [==============================] - 0s 2ms/step - loss: 0.3604 - accuracy: 0.8464\n",
            "Epoch 44/120\n",
            "249/249 [==============================] - 0s 2ms/step - loss: 0.3600 - accuracy: 0.8471\n",
            "Epoch 45/120\n",
            "249/249 [==============================] - 0s 2ms/step - loss: 0.3594 - accuracy: 0.8456\n",
            "Epoch 46/120\n",
            "249/249 [==============================] - 0s 2ms/step - loss: 0.3586 - accuracy: 0.8486\n",
            "Epoch 47/120\n",
            "249/249 [==============================] - 0s 2ms/step - loss: 0.3584 - accuracy: 0.8459\n",
            "Epoch 48/120\n",
            "249/249 [==============================] - 0s 2ms/step - loss: 0.3577 - accuracy: 0.8466\n",
            "Epoch 49/120\n",
            "249/249 [==============================] - 0s 2ms/step - loss: 0.3578 - accuracy: 0.8480\n",
            "Epoch 50/120\n",
            "249/249 [==============================] - 0s 2ms/step - loss: 0.3578 - accuracy: 0.8470\n",
            "Epoch 51/120\n",
            "249/249 [==============================] - 0s 2ms/step - loss: 0.3572 - accuracy: 0.8466\n",
            "Epoch 52/120\n",
            "249/249 [==============================] - 0s 2ms/step - loss: 0.3572 - accuracy: 0.8466\n",
            "Epoch 53/120\n",
            "249/249 [==============================] - 0s 2ms/step - loss: 0.3567 - accuracy: 0.8476\n",
            "Epoch 54/120\n",
            "249/249 [==============================] - 0s 2ms/step - loss: 0.3561 - accuracy: 0.8465\n",
            "Epoch 55/120\n",
            "249/249 [==============================] - 0s 2ms/step - loss: 0.3566 - accuracy: 0.8459\n",
            "Epoch 56/120\n",
            "249/249 [==============================] - 0s 2ms/step - loss: 0.3563 - accuracy: 0.8462\n",
            "Epoch 57/120\n",
            "249/249 [==============================] - 0s 2ms/step - loss: 0.3557 - accuracy: 0.8469\n",
            "Epoch 58/120\n",
            "249/249 [==============================] - 0s 2ms/step - loss: 0.3557 - accuracy: 0.8474\n",
            "Epoch 59/120\n",
            "249/249 [==============================] - 0s 2ms/step - loss: 0.3554 - accuracy: 0.8462\n",
            "Epoch 60/120\n",
            "249/249 [==============================] - 0s 2ms/step - loss: 0.3556 - accuracy: 0.8469\n",
            "Epoch 61/120\n",
            "249/249 [==============================] - 0s 2ms/step - loss: 0.3550 - accuracy: 0.8457\n",
            "Epoch 62/120\n",
            "249/249 [==============================] - 1s 2ms/step - loss: 0.3549 - accuracy: 0.8457\n",
            "Epoch 63/120\n",
            "249/249 [==============================] - 1s 2ms/step - loss: 0.3546 - accuracy: 0.8471\n",
            "Epoch 64/120\n",
            "249/249 [==============================] - 1s 2ms/step - loss: 0.3545 - accuracy: 0.8456\n",
            "Epoch 65/120\n",
            "249/249 [==============================] - 1s 2ms/step - loss: 0.3547 - accuracy: 0.8465\n",
            "Epoch 66/120\n",
            "249/249 [==============================] - 1s 3ms/step - loss: 0.3545 - accuracy: 0.8461\n",
            "Epoch 67/120\n",
            "249/249 [==============================] - 0s 2ms/step - loss: 0.3543 - accuracy: 0.8462\n",
            "Epoch 68/120\n",
            "249/249 [==============================] - 0s 2ms/step - loss: 0.3542 - accuracy: 0.8470\n",
            "Epoch 69/120\n",
            "249/249 [==============================] - 0s 2ms/step - loss: 0.3537 - accuracy: 0.8480\n",
            "Epoch 70/120\n",
            "249/249 [==============================] - 0s 2ms/step - loss: 0.3542 - accuracy: 0.8467\n",
            "Epoch 71/120\n",
            "249/249 [==============================] - 0s 2ms/step - loss: 0.3543 - accuracy: 0.8466\n",
            "Epoch 72/120\n",
            "249/249 [==============================] - 0s 2ms/step - loss: 0.3539 - accuracy: 0.8469\n",
            "Epoch 73/120\n",
            "249/249 [==============================] - 0s 2ms/step - loss: 0.3534 - accuracy: 0.8456\n",
            "Epoch 74/120\n",
            "249/249 [==============================] - 0s 2ms/step - loss: 0.3534 - accuracy: 0.8475\n",
            "Epoch 75/120\n",
            "249/249 [==============================] - 0s 2ms/step - loss: 0.3536 - accuracy: 0.8486\n",
            "Epoch 76/120\n",
            "249/249 [==============================] - 0s 2ms/step - loss: 0.3535 - accuracy: 0.8476\n",
            "Epoch 77/120\n",
            "249/249 [==============================] - 0s 2ms/step - loss: 0.3531 - accuracy: 0.8476\n",
            "Epoch 78/120\n",
            "249/249 [==============================] - 0s 2ms/step - loss: 0.3529 - accuracy: 0.8479\n",
            "Epoch 79/120\n",
            "249/249 [==============================] - 0s 2ms/step - loss: 0.3533 - accuracy: 0.8456\n",
            "Epoch 80/120\n",
            "249/249 [==============================] - 0s 2ms/step - loss: 0.3526 - accuracy: 0.8486\n",
            "Epoch 81/120\n",
            "249/249 [==============================] - 0s 2ms/step - loss: 0.3530 - accuracy: 0.8452\n",
            "Epoch 82/120\n",
            "249/249 [==============================] - 0s 2ms/step - loss: 0.3527 - accuracy: 0.8474\n",
            "Epoch 83/120\n",
            "249/249 [==============================] - 0s 2ms/step - loss: 0.3527 - accuracy: 0.8471\n",
            "Epoch 84/120\n",
            "249/249 [==============================] - 0s 2ms/step - loss: 0.3522 - accuracy: 0.8496\n",
            "Epoch 85/120\n",
            "249/249 [==============================] - 0s 2ms/step - loss: 0.3530 - accuracy: 0.8472\n",
            "Epoch 86/120\n",
            "249/249 [==============================] - 0s 2ms/step - loss: 0.3519 - accuracy: 0.8479\n",
            "Epoch 87/120\n",
            "249/249 [==============================] - 0s 2ms/step - loss: 0.3526 - accuracy: 0.8471\n",
            "Epoch 88/120\n",
            "249/249 [==============================] - 0s 2ms/step - loss: 0.3523 - accuracy: 0.8475\n",
            "Epoch 89/120\n",
            "249/249 [==============================] - 1s 2ms/step - loss: 0.3520 - accuracy: 0.8500\n",
            "Epoch 90/120\n",
            "249/249 [==============================] - 1s 2ms/step - loss: 0.3524 - accuracy: 0.8470\n",
            "Epoch 91/120\n",
            "249/249 [==============================] - 1s 2ms/step - loss: 0.3522 - accuracy: 0.8490\n",
            "Epoch 92/120\n",
            "249/249 [==============================] - 1s 2ms/step - loss: 0.3521 - accuracy: 0.8475\n",
            "Epoch 93/120\n",
            "249/249 [==============================] - 1s 2ms/step - loss: 0.3523 - accuracy: 0.8476\n",
            "Epoch 94/120\n",
            "249/249 [==============================] - 1s 2ms/step - loss: 0.3521 - accuracy: 0.8484\n",
            "Epoch 95/120\n",
            "249/249 [==============================] - 0s 2ms/step - loss: 0.3524 - accuracy: 0.8469\n",
            "Epoch 96/120\n",
            "249/249 [==============================] - 0s 2ms/step - loss: 0.3522 - accuracy: 0.8486\n",
            "Epoch 97/120\n",
            "249/249 [==============================] - 0s 2ms/step - loss: 0.3519 - accuracy: 0.8490\n",
            "Epoch 98/120\n",
            "249/249 [==============================] - 0s 2ms/step - loss: 0.3521 - accuracy: 0.8478\n",
            "Epoch 99/120\n",
            "249/249 [==============================] - 0s 2ms/step - loss: 0.3515 - accuracy: 0.8493\n",
            "Epoch 100/120\n",
            "249/249 [==============================] - 0s 2ms/step - loss: 0.3516 - accuracy: 0.8485\n",
            "Epoch 101/120\n",
            "249/249 [==============================] - 0s 2ms/step - loss: 0.3519 - accuracy: 0.8478\n",
            "Epoch 102/120\n",
            "249/249 [==============================] - 0s 2ms/step - loss: 0.3517 - accuracy: 0.8484\n",
            "Epoch 103/120\n",
            "249/249 [==============================] - 0s 2ms/step - loss: 0.3514 - accuracy: 0.8471\n",
            "Epoch 104/120\n",
            "249/249 [==============================] - 0s 2ms/step - loss: 0.3515 - accuracy: 0.8475\n",
            "Epoch 105/120\n",
            "249/249 [==============================] - 0s 2ms/step - loss: 0.3517 - accuracy: 0.8479\n",
            "Epoch 106/120\n",
            "249/249 [==============================] - 0s 2ms/step - loss: 0.3514 - accuracy: 0.8475\n",
            "Epoch 107/120\n",
            "249/249 [==============================] - 0s 2ms/step - loss: 0.3512 - accuracy: 0.8485\n",
            "Epoch 108/120\n",
            "249/249 [==============================] - 0s 2ms/step - loss: 0.3514 - accuracy: 0.8470\n",
            "Epoch 109/120\n",
            "249/249 [==============================] - 0s 2ms/step - loss: 0.3516 - accuracy: 0.8470\n",
            "Epoch 110/120\n",
            "249/249 [==============================] - 0s 2ms/step - loss: 0.3515 - accuracy: 0.8489\n",
            "Epoch 111/120\n",
            "249/249 [==============================] - 0s 2ms/step - loss: 0.3511 - accuracy: 0.8484\n",
            "Epoch 112/120\n",
            "249/249 [==============================] - 0s 2ms/step - loss: 0.3512 - accuracy: 0.8480\n",
            "Epoch 113/120\n",
            "249/249 [==============================] - 0s 2ms/step - loss: 0.3514 - accuracy: 0.8469\n",
            "Epoch 114/120\n",
            "249/249 [==============================] - 0s 2ms/step - loss: 0.3514 - accuracy: 0.8493\n",
            "Epoch 115/120\n",
            "249/249 [==============================] - 0s 2ms/step - loss: 0.3513 - accuracy: 0.8481\n",
            "Epoch 116/120\n",
            "249/249 [==============================] - 1s 2ms/step - loss: 0.3517 - accuracy: 0.8471\n",
            "Epoch 117/120\n",
            "249/249 [==============================] - 1s 3ms/step - loss: 0.3514 - accuracy: 0.8476\n",
            "Epoch 118/120\n",
            "249/249 [==============================] - 1s 3ms/step - loss: 0.3511 - accuracy: 0.8484\n",
            "Epoch 119/120\n",
            "249/249 [==============================] - 1s 2ms/step - loss: 0.3510 - accuracy: 0.8485\n",
            "Epoch 120/120\n",
            "249/249 [==============================] - 1s 3ms/step - loss: 0.3512 - accuracy: 0.8488\n"
          ]
        },
        {
          "output_type": "execute_result",
          "data": {
            "text/plain": [
              "<keras.callbacks.History at 0x7f5354447bb0>"
            ]
          },
          "metadata": {},
          "execution_count": 16
        }
      ]
    },
    {
      "cell_type": "markdown",
      "metadata": {
        "id": "YDjEXibj22y8"
      },
      "source": [
        "# Predictions"
      ]
    },
    {
      "cell_type": "markdown",
      "metadata": {
        "id": "8KQtJPsR28Km"
      },
      "source": [
        "### Single Prediction"
      ]
    },
    {
      "cell_type": "code",
      "metadata": {
        "id": "u33xFIS23KtS",
        "colab": {
          "base_uri": "https://localhost:8080/"
        },
        "outputId": "2a364b03-69ce-4d90-aecd-f27770edbd44"
      },
      "source": [
        "print(ann.predict(sc.transform([[0.0, 1.0, 0.0, 501, 0, 32, 2, 0.0, 4, 1, 545501]])) > 0.5)"
      ],
      "execution_count": 17,
      "outputs": [
        {
          "output_type": "stream",
          "name": "stdout",
          "text": [
            "1/1 [==============================] - 0s 102ms/step\n",
            "[[False]]\n"
          ]
        }
      ]
    },
    {
      "cell_type": "markdown",
      "metadata": {
        "id": "0HxpzoQo2_Gf"
      },
      "source": [
        "### Predication on testset"
      ]
    },
    {
      "cell_type": "code",
      "metadata": {
        "id": "tUCnLY6e3Imj",
        "colab": {
          "base_uri": "https://localhost:8080/"
        },
        "outputId": "ff4009aa-0820-4fbc-ca47-afa6b1418d5d"
      },
      "source": [
        "y_pred = ann.predict(X_test)\n",
        "y_pred = (y_pred > 0.5)\n",
        "print(np.concatenate((y_pred.reshape(len(y_pred),1), y_test.reshape(len(y_test),1)),1))"
      ],
      "execution_count": 18,
      "outputs": [
        {
          "output_type": "stream",
          "name": "stdout",
          "text": [
            "63/63 [==============================] - 0s 1ms/step\n",
            "[[0 1]\n",
            " [0 0]\n",
            " [0 0]\n",
            " ...\n",
            " [0 1]\n",
            " [0 0]\n",
            " [0 1]]\n"
          ]
        }
      ]
    },
    {
      "cell_type": "markdown",
      "metadata": {
        "id": "_YpFOI9d3C-5"
      },
      "source": [
        "### Confusion Matrix"
      ]
    },
    {
      "cell_type": "code",
      "metadata": {
        "id": "UYvqw6qvy5J4",
        "colab": {
          "base_uri": "https://localhost:8080/"
        },
        "outputId": "3eca5257-a1f5-4a14-95a8-232583bb9623"
      },
      "source": [
        "from sklearn.metrics import confusion_matrix, accuracy_score\n",
        "cm = confusion_matrix(y_test, y_pred)\n",
        "print(cm)\n",
        "accuracy_score(y_test, y_pred)"
      ],
      "execution_count": 19,
      "outputs": [
        {
          "output_type": "stream",
          "name": "stdout",
          "text": [
            "[[1493   80]\n",
            " [ 222  191]]\n"
          ]
        },
        {
          "output_type": "execute_result",
          "data": {
            "text/plain": [
              "0.8479355488418933"
            ]
          },
          "metadata": {},
          "execution_count": 19
        }
      ]
    }
  ]
}
{
  "nbformat": 4,
  "nbformat_minor": 0,
  "metadata": {
    "colab": {
      "provenance": [],
      "include_colab_link": true
    },
    "kernelspec": {
      "name": "python3",
      "display_name": "Python 3"
    }
  },
  "cells": [
    {
      "cell_type": "markdown",
      "metadata": {
        "id": "view-in-github",
        "colab_type": "text"
      },
      "source": [
        "<a href=\"https://colab.research.google.com/github/rishabhoops/Machine-Learning-Repository/blob/Linear-Regression/Simple_Linear_Regression_Template.ipynb\" target=\"_parent\"><img src=\"https://colab.research.google.com/assets/colab-badge.svg\" alt=\"Open In Colab\"/></a>"
      ]
    },
    {
      "cell_type": "markdown",
      "metadata": {
        "id": "FB7mg-9WUSAn"
      },
      "source": [
        "# Simple Linear Regression "
      ]
    },
    {
      "cell_type": "code",
      "source": [],
      "metadata": {
        "id": "SmRYqWdDH2eB"
      },
      "execution_count": null,
      "outputs": []
    },
    {
      "cell_type": "markdown",
      "metadata": {
        "id": "zcXufiytUV3b"
      },
      "source": [
        "## Importing Libraries"
      ]
    },
    {
      "cell_type": "code",
      "source": [
        "import numpy as np\n",
        "import matplotlib.pyplot as plt\n",
        "import pandas as pd"
      ],
      "metadata": {
        "id": "KkFriqR7_A9O"
      },
      "execution_count": null,
      "outputs": []
    },
    {
      "cell_type": "markdown",
      "metadata": {
        "id": "x1V8I7-1Ugu8"
      },
      "source": [
        "## Importing Data Set"
      ]
    },
    {
      "cell_type": "code",
      "source": [
        "data_set = pd.read_csv('/content/Simple Linear Regression.csv')\n",
        "x=data_set.iloc[:,:-1].values\n",
        "y=data_set.iloc[:,-1].values"
      ],
      "metadata": {
        "id": "0BjdYTMO_WDS"
      },
      "execution_count": null,
      "outputs": []
    },
    {
      "cell_type": "code",
      "source": [
        "print(x)"
      ],
      "metadata": {
        "colab": {
          "base_uri": "https://localhost:8080/"
        },
        "id": "42SGnb9HAEMg",
        "outputId": "d1836cf0-a3b9-4b15-9599-0ea36d38de10"
      },
      "execution_count": null,
      "outputs": [
        {
          "output_type": "stream",
          "name": "stdout",
          "text": [
            "[[1. ]\n",
            " [1.2]\n",
            " [1.6]\n",
            " [2. ]\n",
            " [2.3]\n",
            " [2.8]\n",
            " [3. ]\n",
            " [3.3]\n",
            " [3.6]\n",
            " [3.6]\n",
            " [4. ]\n",
            " [4.1]\n",
            " [4.4]\n",
            " [4.5]\n",
            " [4.9]\n",
            " [5.1]\n",
            " [5.3]\n",
            " [5.9]\n",
            " [6.1]\n",
            " [6.7]\n",
            " [6.9]\n",
            " [7.1]\n",
            " [7.3]\n",
            " [7.5]\n",
            " [7.7]]\n"
          ]
        }
      ]
    },
    {
      "cell_type": "code",
      "source": [
        "print(y)"
      ],
      "metadata": {
        "colab": {
          "base_uri": "https://localhost:8080/"
        },
        "id": "TGy5dM7pAJPz",
        "outputId": "11a33630-fee7-400d-ab7c-3938db40a63b"
      },
      "execution_count": null,
      "outputs": [
        {
          "output_type": "stream",
          "name": "stdout",
          "text": [
            "[325000 361259 340000 414101 405000 500000 495000 541000 568190 640000\n",
            " 610000 626710 690101 680000 760000 800000 780000 840000 860000 900000\n",
            " 930000 920000 910000 931910 951010]\n"
          ]
        }
      ]
    },
    {
      "cell_type": "markdown",
      "metadata": {
        "id": "2vBbKI1BUilB"
      },
      "source": [
        "## Splitting into test and training set"
      ]
    },
    {
      "cell_type": "code",
      "source": [
        "from sklearn.model_selection import train_test_split\n",
        "x_train,x_test,y_train,y_test=train_test_split(x,y,test_size=0.3,random_state=42)"
      ],
      "metadata": {
        "id": "BeK2pBopAVw5"
      },
      "execution_count": null,
      "outputs": []
    },
    {
      "cell_type": "code",
      "source": [
        "print(x_train)"
      ],
      "metadata": {
        "colab": {
          "base_uri": "https://localhost:8080/"
        },
        "id": "vM1XSPE_A76r",
        "outputId": "438af954-c81e-445e-e1a5-54bea6f2de9a"
      },
      "execution_count": null,
      "outputs": [
        {
          "output_type": "stream",
          "name": "stdout",
          "text": [
            "[[7.3]\n",
            " [2.8]\n",
            " [1.6]\n",
            " [4.4]\n",
            " [5.1]\n",
            " [2. ]\n",
            " [2.3]\n",
            " [6.9]\n",
            " [5.9]\n",
            " [7.1]\n",
            " [6.1]\n",
            " [7.7]\n",
            " [3.3]\n",
            " [4. ]\n",
            " [4.9]\n",
            " [6.7]\n",
            " [3. ]]\n"
          ]
        }
      ]
    },
    {
      "cell_type": "code",
      "source": [
        "print(x_test)"
      ],
      "metadata": {
        "colab": {
          "base_uri": "https://localhost:8080/"
        },
        "id": "J1k8O78gBAbL",
        "outputId": "9dc1f439-ffe1-4e85-8a86-947eb6a95b83"
      },
      "execution_count": null,
      "outputs": [
        {
          "output_type": "stream",
          "name": "stdout",
          "text": [
            "[[3.6]\n",
            " [5.3]\n",
            " [1. ]\n",
            " [7.5]\n",
            " [4.1]\n",
            " [3.6]\n",
            " [4.5]\n",
            " [1.2]]\n"
          ]
        }
      ]
    },
    {
      "cell_type": "code",
      "source": [
        "print(y_train)"
      ],
      "metadata": {
        "colab": {
          "base_uri": "https://localhost:8080/"
        },
        "id": "xrp_UtryBGmA",
        "outputId": "eef64abc-196d-4cc4-b61d-3cc38435c055"
      },
      "execution_count": null,
      "outputs": [
        {
          "output_type": "stream",
          "name": "stdout",
          "text": [
            "[910000 500000 340000 690101 800000 414101 405000 930000 840000 920000\n",
            " 860000 951010 541000 610000 760000 900000 495000]\n"
          ]
        }
      ]
    },
    {
      "cell_type": "code",
      "source": [
        "print(y_test)"
      ],
      "metadata": {
        "colab": {
          "base_uri": "https://localhost:8080/"
        },
        "id": "E0iW-uHhBMXe",
        "outputId": "e0e89a12-5e57-4341-d92c-b81df1e50035"
      },
      "execution_count": null,
      "outputs": [
        {
          "output_type": "stream",
          "name": "stdout",
          "text": [
            "[568190 780000 325000 931910 626710 640000 680000 361259]\n"
          ]
        }
      ]
    },
    {
      "cell_type": "markdown",
      "metadata": {
        "id": "K6uEL0b5Utac"
      },
      "source": [
        "## Training on Training Set using Simple Linear Regression"
      ]
    },
    {
      "cell_type": "code",
      "source": [
        "from sklearn.linear_model import LinearRegression\n",
        "regressor=LinearRegression()\n",
        "regressor.fit(x_train,y_train)"
      ],
      "metadata": {
        "colab": {
          "base_uri": "https://localhost:8080/"
        },
        "id": "8reQwOOZBsRa",
        "outputId": "8e5e59b5-375d-41f5-cf59-224a68b845a4"
      },
      "execution_count": null,
      "outputs": [
        {
          "output_type": "execute_result",
          "data": {
            "text/plain": [
              "LinearRegression()"
            ]
          },
          "metadata": {},
          "execution_count": 12
        }
      ]
    },
    {
      "cell_type": "markdown",
      "metadata": {
        "id": "RyRva69qUzBK"
      },
      "source": [
        "## Prediction on Test Set"
      ]
    },
    {
      "cell_type": "code",
      "source": [
        "y_pred=regressor.predict(x_test)"
      ],
      "metadata": {
        "id": "3pypHsffCTXo"
      },
      "execution_count": null,
      "outputs": []
    },
    {
      "cell_type": "markdown",
      "metadata": {
        "id": "uziF7cmeU4tJ"
      },
      "source": [
        "## Visualizing the Training Set"
      ]
    },
    {
      "cell_type": "code",
      "source": [
        "plt.scatter(x_train,y_train,color='red')\n",
        "plt.plot(x_train,regressor.predict(x_train),color='blue')\n",
        "plt.title(\"CTC Vs Experiance per year\")\n",
        "plt.xlabel(\"Experiance in Year\")\n",
        "plt.ylabel(\"CTC\")\n",
        "plt.show()"
      ],
      "metadata": {
        "colab": {
          "base_uri": "https://localhost:8080/",
          "height": 295
        },
        "id": "cSqSHsTtCaId",
        "outputId": "9dc84d78-8118-4f5b-819c-03914b613b0a"
      },
      "execution_count": null,
      "outputs": [
        {
          "output_type": "display_data",
          "data": {
            "text/plain": [
              "<Figure size 432x288 with 1 Axes>"
            ],
            "image/png": "[encoded data removed]"
          },
          "metadata": {
            "needs_background": "light"
          }
        }
      ]
    },
    {
      "cell_type": "markdown",
      "metadata": {
        "id": "3ot8DaEpsxxb"
      },
      "source": [
        "## Visualizing the Test Set"
      ]
    },
    {
      "cell_type": "code",
      "source": [
        "plt.scatter(x_test,y_test,color='red')\n",
        "plt.plot(x_train,regressor.predict(x_train),color='blue')\n",
        "plt.title(\"CTC Vs Experiance per year\")\n",
        "plt.xlabel(\"Experiance in Year\")\n",
        "plt.ylabel(\"CTC\")\n",
        "plt.show()"
      ],
      "metadata": {
        "colab": {
          "base_uri": "https://localhost:8080/",
          "height": 295
        },
        "id": "slVicbeFEOcb",
        "outputId": "cfd46a4b-55f2-4f3a-b0a4-8665d1d06881"
      },
      "execution_count": null,
      "outputs": [
        {
          "output_type": "display_data",
          "data": {
            "text/plain": [
              "<Figure size 432x288 with 1 Axes>"
            ],
            "image/png": "[encoded data removed]"
          },
          "metadata": {
            "needs_background": "light"
          }
        }
      ]
    }
  ]
}
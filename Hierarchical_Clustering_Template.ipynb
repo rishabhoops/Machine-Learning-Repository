{
  "nbformat": 4,
  "nbformat_minor": 0,
  "metadata": {
    "colab": {
      "provenance": [],
      "include_colab_link": true
    },
    "kernelspec": {
      "name": "python3",
      "display_name": "Python 3"
    }
  },
  "cells": [
    {
      "cell_type": "markdown",
      "metadata": {
        "id": "view-in-github",
        "colab_type": "text"
      },
      "source": [
        "<a href=\"https://colab.research.google.com/github/rishabhoops/Machine-Learning-Repository/blob/main/Hierarchical_Clustering_Template.ipynb\" target=\"_parent\"><img src=\"https://colab.research.google.com/assets/colab-badge.svg\" alt=\"Open In Colab\"/></a>"
      ]
    },
    {
      "cell_type": "markdown",
      "metadata": {
        "id": "Z-jZGC0q0aiY"
      },
      "source": [
        "# Hierarchical Clustering"
      ]
    },
    {
      "cell_type": "markdown",
      "metadata": {
        "id": "jE4Rc_OO0eJM"
      },
      "source": [
        "## Importing libraries"
      ]
    },
    {
      "cell_type": "code",
      "source": [
        "import numpy as np\n",
        "import matplotlib.pyplot as plt\n",
        "import pandas as pd"
      ],
      "metadata": {
        "id": "YQMKeD5dsvo-"
      },
      "execution_count": 1,
      "outputs": []
    },
    {
      "cell_type": "markdown",
      "metadata": {
        "id": "A9-xGHd20gY1"
      },
      "source": [
        "## Importing dataset"
      ]
    },
    {
      "cell_type": "code",
      "source": [
        "dataset=pd.read_csv(\"/content/Amazon.com Clusturing Model (Pr.csv\")\n",
        "x=dataset.iloc[:,[2,4]].values"
      ],
      "metadata": {
        "id": "mHkoezxQs5zC"
      },
      "execution_count": 3,
      "outputs": []
    },
    {
      "cell_type": "code",
      "source": [
        "print(x)"
      ],
      "metadata": {
        "colab": {
          "base_uri": "https://localhost:8080/"
        },
        "id": "j2jiGw8RtJP5",
        "outputId": "3a3b7298-067b-46e8-8753-3d9b6a113a3d"
      },
      "execution_count": 4,
      "outputs": [
        {
          "output_type": "stream",
          "name": "stdout",
          "text": [
            "[[ 23  44]\n",
            " [ 26  91]\n",
            " [ 24   7]\n",
            " [ 28  87]\n",
            " [ 38  45]\n",
            " [ 27  86]\n",
            " [ 42   7]\n",
            " [ 28 106]\n",
            " [ 77   4]\n",
            " [ 36  81]\n",
            " [ 81  16]\n",
            " [ 42 111]\n",
            " [ 70  17]\n",
            " [ 29  87]\n",
            " [ 45  15]\n",
            " [ 27  89]\n",
            " [ 42  40]\n",
            " [ 24  74]\n",
            " [ 63  33]\n",
            " [ 42 110]\n",
            " [ 42  40]\n",
            " [ 30  82]\n",
            " [ 56   6]\n",
            " [ 38  82]\n",
            " [ 65  16]\n",
            " [ 35  92]\n",
            " [ 54  36]\n",
            " [ 42  69]\n",
            " [ 48  35]\n",
            " [ 28  98]\n",
            " [ 72   5]\n",
            " [ 26  82]\n",
            " [ 64   5]\n",
            " [ 22 104]\n",
            " [ 59  16]\n",
            " [ 26  91]\n",
            " [ 51  20]\n",
            " [ 36  82]\n",
            " [ 44  30]\n",
            " [ 24  84]\n",
            " [ 78  40]\n",
            " [ 29 104]\n",
            " [ 58  41]\n",
            " [ 38  69]\n",
            " [ 59  32]\n",
            " [ 29  73]\n",
            " [ 60  62]\n",
            " [ 33  53]\n",
            " [ 35  48]\n",
            " [ 38  48]\n",
            " [ 59  59]\n",
            " [ 40  68]\n",
            " [ 38  61]\n",
            " [ 71  68]\n",
            " [ 60  51]\n",
            " [ 57  46]\n",
            " [ 62  56]\n",
            " [ 83  52]\n",
            " [ 33  58]\n",
            " [ 64  52]\n",
            " [ 84  63]\n",
            " [ 23  62]\n",
            " [ 81  59]\n",
            " [ 65  67]\n",
            " [ 76  58]\n",
            " [ 22  67]\n",
            " [ 52  56]\n",
            " [ 82  54]\n",
            " [ 23  67]\n",
            " [ 39  53]\n",
            " [ 84  62]\n",
            " [ 57  48]\n",
            " [ 72  55]\n",
            " [ 72  63]\n",
            " [ 71  53]\n",
            " [ 32  61]\n",
            " [ 54  60]\n",
            " [ 48  54]\n",
            " [ 28  59]\n",
            " [ 59  48]\n",
            " [ 69  58]\n",
            " [ 46  62]\n",
            " [ 81  46]\n",
            " [ 56  50]\n",
            " [ 26  64]\n",
            " [ 58  52]\n",
            " [ 66  65]\n",
            " [ 27  62]\n",
            " [ 41  68]\n",
            " [ 60  52]\n",
            " [ 82  62]\n",
            " [ 22  46]\n",
            " [ 58  55]\n",
            " [ 48  45]\n",
            " [ 39  48]\n",
            " [ 29  59]\n",
            " [ 57  53]\n",
            " [ 33  56]\n",
            " [ 58  48]\n",
            " [ 24  55]\n",
            " [ 28  46]\n",
            " [ 59  54]\n",
            " [ 81  67]\n",
            " [ 32  62]\n",
            " [ 59  63]\n",
            " [ 26  48]\n",
            " [ 80  56]\n",
            " [ 65  52]\n",
            " [ 82  49]\n",
            " [ 80  54]\n",
            " [ 78  59]\n",
            " [ 23  61]\n",
            " [ 46  48]\n",
            " [ 23  52]\n",
            " [ 22  54]\n",
            " [ 23  56]\n",
            " [ 76  49]\n",
            " [ 59  67]\n",
            " [ 62  49]\n",
            " [ 60  64]\n",
            " [ 33  63]\n",
            " [ 46  45]\n",
            " [ 48  65]\n",
            " [ 47 102]\n",
            " [ 28  33]\n",
            " [ 38  87]\n",
            " [ 52  40]\n",
            " [ 48 107]\n",
            " [ 71  13]\n",
            " [ 46  84]\n",
            " [ 57  11]\n",
            " [ 47  84]\n",
            " [ 30  39]\n",
            " [ 38  80]\n",
            " [ 24   6]\n",
            " [ 35  99]\n",
            " [ 53   8]\n",
            " [ 39  82]\n",
            " [ 23  12]\n",
            " [ 42  81]\n",
            " [ 69   6]\n",
            " [ 39 105]\n",
            " [ 34  45]\n",
            " [ 39  98]\n",
            " [ 30  14]\n",
            " [ 34 109]\n",
            " [ 58  41]\n",
            " [ 39  83]\n",
            " [ 41  25]\n",
            " [ 41 101]\n",
            " [ 52  20]\n",
            " [ 47  99]\n",
            " [ 53  23]\n",
            " [ 46  86]\n",
            " [ 57  18]\n",
            " [ 33 100]\n",
            " [ 45   2]\n",
            " [ 36  88]\n",
            " [ 41   2]\n",
            " [ 36  82]\n",
            " [ 68  40]\n",
            " [ 35  93]\n",
            " [ 23   6]\n",
            " [ 38 105]\n",
            " [ 60  30]\n",
            " [ 44  84]\n",
            " [ 51  23]\n",
            " [ 40 107]\n",
            " [ 44  31]\n",
            " [ 39  71]\n",
            " [ 48  15]\n",
            " [ 34  84]\n",
            " [ 44  12]\n",
            " [ 44 104]\n",
            " [ 63  15]\n",
            " [ 36  97]\n",
            " [ 70  17]\n",
            " [ 33  78]\n",
            " [ 71  16]\n",
            " [ 42 101]\n",
            " [ 45  36]\n",
            " [ 39  97]\n",
            " [ 56  17]\n",
            " [ 35  99]\n",
            " [ 50  44]\n",
            " [ 36 109]\n",
            " [ 65  27]\n",
            " [ 34  77]\n",
            " [ 50  20]\n",
            " [ 44  96]\n",
            " [ 41  26]\n",
            " [ 39  78]\n",
            " [ 40   9]\n",
            " [ 46 102]\n",
            " [ 57  18]\n",
            " [ 42  89]\n",
            " [ 54  32]\n",
            " [ 39  83]\n",
            " [ 39  21]\n",
            " [ 36  93]]\n"
          ]
        }
      ]
    },
    {
      "cell_type": "markdown",
      "metadata": {
        "id": "8REFJFGC0lRN"
      },
      "source": [
        "## Optimal number of clusters via DendoGram"
      ]
    },
    {
      "cell_type": "code",
      "source": [
        "import scipy.cluster.hierarchy as sch\n",
        "dendrogram =sch.dendrogram(sch.linkage(x,method='ward'))\n",
        "plt.title(\"Dendrogram\")\n",
        "plt.xlabel(\"Age\")\n",
        "plt.ylabel('Euclidean Distance')"
      ],
      "metadata": {
        "colab": {
          "base_uri": "https://localhost:8080/",
          "height": 312
        },
        "id": "YYDXj8RZtNes",
        "outputId": "080be7a2-c334-47b4-a450-3d3f36767828"
      },
      "execution_count": 6,
      "outputs": [
        {
          "output_type": "execute_result",
          "data": {
            "text/plain": [
              "Text(0, 0.5, 'Euclidean Distance')"
            ]
          },
          "metadata": {},
          "execution_count": 6
        },
        {
          "output_type": "display_data",
          "data": {
            "text/plain": [
              "<Figure size 432x288 with 1 Axes>"
            ],
            "image/png": "[encoded data removed]"
          },
          "metadata": {
            "needs_background": "light"
          }
        }
      ]
    },
    {
      "cell_type": "markdown",
      "metadata": {
        "id": "2QUFYaoH00H6"
      },
      "source": [
        "## Hierarchical Clustering Model Training on Training set"
      ]
    },
    {
      "cell_type": "code",
      "source": [
        "from sklearn.cluster import AgglomerativeClustering\n",
        "hc=AgglomerativeClustering(n_clusters=6,affinity='euclidean',linkage='ward')\n",
        "yhc=hc.fit_predict(x)"
      ],
      "metadata": {
        "colab": {
          "base_uri": "https://localhost:8080/"
        },
        "id": "dUGsfssjxPkE",
        "outputId": "0c4db57c-7af9-4207-a2ef-59566d6994c4"
      },
      "execution_count": 10,
      "outputs": [
        {
          "output_type": "stream",
          "name": "stderr",
          "text": [
            "/usr/local/lib/python3.9/dist-packages/sklearn/cluster/_agglomerative.py:983: FutureWarning: Attribute `affinity` was deprecated in version 1.2 and will be removed in 1.4. Use `metric` instead\n",
            "  warnings.warn(\n"
          ]
        }
      ]
    },
    {
      "cell_type": "markdown",
      "metadata": {
        "id": "-Dw4Khi70u9g"
      },
      "source": [
        "## Visualizing Clusters"
      ]
    },
    {
      "cell_type": "code",
      "source": [
        "plt.scatter(x[yhc == 0, 0], x[yhc == 0, 1], s = 100, c = 'red', label = 'Cluster 1')\n",
        "plt.scatter(x[yhc == 1, 0], x[yhc == 1, 1], s = 100, c = 'cyan', label = 'Cluster 2')\n",
        "plt.scatter(x[yhc == 2, 0], x[yhc == 2, 1], s = 100, c = 'blue', label = 'Cluster 3')\n",
        "plt.scatter(x[yhc == 3, 0], x[yhc == 3, 1], s = 100, c = 'magenta', label = 'Cluster 4')\n",
        "plt.scatter(x[yhc == 4, 0], x[yhc == 4, 1], s = 100, c = 'yellow', label = 'Cluster 5')\n",
        "plt.scatter(x[yhc == 5, 0], x[yhc == 5, 1], s = 100, c = 'black', label = 'Cluster 6')\n",
        "\n",
        "plt.title('Amazon Users')\n",
        "plt.xlabel('Age')\n",
        "plt.ylabel('Rating')\n",
        "\n",
        "plt.legend()\n",
        "plt.show()"
      ],
      "metadata": {
        "colab": {
          "base_uri": "https://localhost:8080/",
          "height": 295
        },
        "id": "olj0Dzxext8E",
        "outputId": "7549f48e-4508-4c97-b5a9-3fc1777da1d4"
      },
      "execution_count": 11,
      "outputs": [
        {
          "output_type": "display_data",
          "data": {
            "text/plain": [
              "<Figure size 432x288 with 1 Axes>"
            ],
            "image/png": "[encoded data removed]"
          },
          "metadata": {
            "needs_background": "light"
          }
        }
      ]
    }
  ]
}
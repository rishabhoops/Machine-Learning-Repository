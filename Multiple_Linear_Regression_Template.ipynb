{
  "nbformat": 4,
  "nbformat_minor": 0,
  "metadata": {
    "colab": {
      "provenance": [],
      "include_colab_link": true
    },
    "kernelspec": {
      "name": "python3",
      "display_name": "Python 3"
    }
  },
  "cells": [
    {
      "cell_type": "markdown",
      "metadata": {
        "id": "view-in-github",
        "colab_type": "text"
      },
      "source": [
        "<a href=\"https://colab.research.google.com/github/rishabhoops/Machine-Learning-Repository/blob/main/Multiple_Linear_Regression_Template.ipynb\" target=\"_parent\"><img src=\"https://colab.research.google.com/assets/colab-badge.svg\" alt=\"Open In Colab\"/></a>"
      ]
    },
    {
      "cell_type": "markdown",
      "metadata": {
        "id": "FB7mg-9WUSAn"
      },
      "source": [
        "# Multiple Linear Regression "
      ]
    },
    {
      "cell_type": "markdown",
      "metadata": {
        "id": "zcXufiytUV3b"
      },
      "source": [
        "## Importing Libraries"
      ]
    },
    {
      "cell_type": "code",
      "source": [
        "import numpy as np\n",
        "import pandas as pd\n",
        "import matplotlib.pyplot as plt"
      ],
      "metadata": {
        "id": "0rC4VODGSTKY"
      },
      "execution_count": 3,
      "outputs": []
    },
    {
      "cell_type": "markdown",
      "metadata": {
        "id": "x1V8I7-1Ugu8"
      },
      "source": [
        "## Importing Data Set"
      ]
    },
    {
      "cell_type": "code",
      "source": [
        "data_set=pd.read_csv(\"/content/Covid_data_Multiple_Linear_Regression.csv\")\n",
        "x=data_set.iloc[:,:-1].values\n",
        "y=data_set.iloc[:,-1].values"
      ],
      "metadata": {
        "id": "fOJUv_dBStsq"
      },
      "execution_count": 5,
      "outputs": []
    },
    {
      "cell_type": "code",
      "source": [
        "print(x)"
      ],
      "metadata": {
        "colab": {
          "base_uri": "https://localhost:8080/"
        },
        "id": "nc-3ZAbZWF5a",
        "outputId": "5afce53d-34eb-4a91-84a4-0b4bf365e4dc"
      },
      "execution_count": null,
      "outputs": [
        {
          "output_type": "stream",
          "name": "stdout",
          "text": [
            "[[10 'Moderate' 0 97]\n",
            " [80 'High' 0 92]\n",
            " [10 'Low' 0 97]\n",
            " [81 'High' 4 75]\n",
            " [12 'Moderate' 0 97]\n",
            " [18 'Low' 0 66]\n",
            " [13 'Moderate' 0 93]\n",
            " [94 'High' 4 64]\n",
            " [86 'High' 2 76]\n",
            " [20 'Moderate' 0 92]\n",
            " [15 'Moderate' 0 94]\n",
            " [15 'Moderate' 0 92]\n",
            " [16 'Low' 0 92]\n",
            " [17 'Moderate' 0 93]\n",
            " [18 'Moderate' 0 93]\n",
            " [19 'Moderate' 0 92]\n",
            " [19 'Moderate' 0 89]\n",
            " [12 'Moderate' 0 97]\n",
            " [20 'Moderate' 0 93]\n",
            " [24 'Moderate' 0 92]\n",
            " [25 'Moderate' 0 93]\n",
            " [59 'High' 2 68]\n",
            " [63 'High' 1 66]\n",
            " [25 'Moderate' 1 62]\n",
            " [26 'High' 0 94]\n",
            " [26 'Low' 0 97]\n",
            " [28 'Moderate' 0 99]\n",
            " [59 'High' 0 69]\n",
            " [28 'Moderate' 0 89]\n",
            " [29 'Moderate' 0 93]\n",
            " [48 'Moderate' 0 93]\n",
            " [30 'Moderate' 0 62]\n",
            " [30 'Moderate' 0 86]\n",
            " [32 'Moderate' 0 84]\n",
            " [34 'Moderate' 1 90]\n",
            " [35 'Moderate' 0 89]\n",
            " [50 'High' 2 77]\n",
            " [56 'High' 2 76]\n",
            " [56 'High' 1 77]\n",
            " [36 'High' 1 90]\n",
            " [38 'High' 2 75]\n",
            " [40 'Moderate' 0 90]\n",
            " [40 'High' 0 92]\n",
            " [61 'High' 2 76]\n",
            " [42 'High' 0 92]\n",
            " [46 'High' 0 91]\n",
            " [49 'Moderate' 0 80]\n",
            " [52 'High' 1 80]\n",
            " [32 'Moderate' 0 89]\n",
            " [53 'High' 1 55]\n",
            " [54 'High' 1 70]\n",
            " [90 'High' 3 67]\n",
            " [78 'High' 2 71]\n",
            " [58 'High' 0 70]\n",
            " [60 'High' 1 68]\n",
            " [61 'Moderate' 0 90]\n",
            " [62 'High' 1 68]\n",
            " [86 'High' 3 71]\n",
            " [62 'High' 2 69]\n",
            " [64 'High' 1 73]\n",
            " [68 'High' 1 67]\n",
            " [69 'High' 0 53]\n",
            " [70 'Moderate' 1 88]\n",
            " [74 'High' 2 75]\n",
            " [75 'High' 1 72]\n",
            " [76 'High' 4 80]\n",
            " [35 'Moderate' 0 92]\n",
            " [13 'Moderate' 0 94]\n",
            " [82 'High' 3 73]\n",
            " [84 'High' 3 75]]\n"
          ]
        }
      ]
    },
    {
      "cell_type": "code",
      "source": [
        "print(y)"
      ],
      "metadata": {
        "colab": {
          "base_uri": "https://localhost:8080/"
        },
        "id": "LkffHo1HWMDh",
        "outputId": "111caceb-316f-482d-e4af-e4a460ddb485"
      },
      "execution_count": null,
      "outputs": [
        {
          "output_type": "stream",
          "name": "stdout",
          "text": [
            "[127181  61004 111911  39010 110911  99110 110101  37914  45019  98101\n",
            " 101000 102019 100000  99910  99004  98191  98081 110911  97101  95202\n",
            "  95010  61002  59994  78010  92010  99008  93010  66019  93091  92101\n",
            "  83891  75012  91002  90015  90001  90124  71019  60801  67010  90191\n",
            "  78004  87019  88012  62019  87005  84008  77010  73010  91019  50104\n",
            "  61082  46016  52001  63091  62019  71191  61018  41891  56095  62001\n",
            "  59010  59913  67019  58010  57019  39010  91141 112101  42010  42099]\n"
          ]
        }
      ]
    },
    {
      "cell_type": "markdown",
      "metadata": {
        "id": "V9bZq2w39GwP"
      },
      "source": [
        "## Encoding categorical data"
      ]
    },
    {
      "cell_type": "code",
      "source": [
        "from sklearn.compose import ColumnTransformer\n",
        "from sklearn.preprocessing import OneHotEncoder\n",
        "ct=ColumnTransformer(transformers=[(\"encoder\",OneHotEncoder(),[1])],remainder='passthrough')\n",
        "x=np.array(ct.fit_transform(x))"
      ],
      "metadata": {
        "id": "ZGfel6pmYq_5"
      },
      "execution_count": 6,
      "outputs": []
    },
    {
      "cell_type": "code",
      "source": [
        "print(x)"
      ],
      "metadata": {
        "colab": {
          "base_uri": "https://localhost:8080/"
        },
        "id": "7TkiEvr3Ee9y",
        "outputId": "a55990b7-095a-4495-db78-c8607638990d"
      },
      "execution_count": 7,
      "outputs": [
        {
          "output_type": "stream",
          "name": "stdout",
          "text": [
            "[[0.0 0.0 1.0 10 0 97]\n",
            " [1.0 0.0 0.0 80 0 92]\n",
            " [0.0 1.0 0.0 10 0 97]\n",
            " [1.0 0.0 0.0 81 4 75]\n",
            " [0.0 0.0 1.0 12 0 97]\n",
            " [0.0 1.0 0.0 18 0 66]\n",
            " [0.0 0.0 1.0 13 0 93]\n",
            " [1.0 0.0 0.0 94 4 64]\n",
            " [1.0 0.0 0.0 86 2 76]\n",
            " [0.0 0.0 1.0 20 0 92]\n",
            " [0.0 0.0 1.0 15 0 94]\n",
            " [0.0 0.0 1.0 15 0 92]\n",
            " [0.0 1.0 0.0 16 0 92]\n",
            " [0.0 0.0 1.0 17 0 93]\n",
            " [0.0 0.0 1.0 18 0 93]\n",
            " [0.0 0.0 1.0 19 0 92]\n",
            " [0.0 0.0 1.0 19 0 89]\n",
            " [0.0 0.0 1.0 12 0 97]\n",
            " [0.0 0.0 1.0 20 0 93]\n",
            " [0.0 0.0 1.0 24 0 92]\n",
            " [0.0 0.0 1.0 25 0 93]\n",
            " [1.0 0.0 0.0 59 2 68]\n",
            " [1.0 0.0 0.0 63 1 66]\n",
            " [0.0 0.0 1.0 25 1 62]\n",
            " [1.0 0.0 0.0 26 0 94]\n",
            " [0.0 1.0 0.0 26 0 97]\n",
            " [0.0 0.0 1.0 28 0 99]\n",
            " [1.0 0.0 0.0 59 0 69]\n",
            " [0.0 0.0 1.0 28 0 89]\n",
            " [0.0 0.0 1.0 29 0 93]\n",
            " [0.0 0.0 1.0 48 0 93]\n",
            " [0.0 0.0 1.0 30 0 62]\n",
            " [0.0 0.0 1.0 30 0 86]\n",
            " [0.0 0.0 1.0 32 0 84]\n",
            " [0.0 0.0 1.0 34 1 90]\n",
            " [0.0 0.0 1.0 35 0 89]\n",
            " [1.0 0.0 0.0 50 2 77]\n",
            " [1.0 0.0 0.0 56 2 76]\n",
            " [1.0 0.0 0.0 56 1 77]\n",
            " [1.0 0.0 0.0 36 1 90]\n",
            " [1.0 0.0 0.0 38 2 75]\n",
            " [0.0 0.0 1.0 40 0 90]\n",
            " [1.0 0.0 0.0 40 0 92]\n",
            " [1.0 0.0 0.0 61 2 76]\n",
            " [1.0 0.0 0.0 42 0 92]\n",
            " [1.0 0.0 0.0 46 0 91]\n",
            " [0.0 0.0 1.0 49 0 80]\n",
            " [1.0 0.0 0.0 52 1 80]\n",
            " [0.0 0.0 1.0 32 0 89]\n",
            " [1.0 0.0 0.0 53 1 55]\n",
            " [1.0 0.0 0.0 54 1 70]\n",
            " [1.0 0.0 0.0 90 3 67]\n",
            " [1.0 0.0 0.0 78 2 71]\n",
            " [1.0 0.0 0.0 58 0 70]\n",
            " [1.0 0.0 0.0 60 1 68]\n",
            " [0.0 0.0 1.0 61 0 90]\n",
            " [1.0 0.0 0.0 62 1 68]\n",
            " [1.0 0.0 0.0 86 3 71]\n",
            " [1.0 0.0 0.0 62 2 69]\n",
            " [1.0 0.0 0.0 64 1 73]\n",
            " [1.0 0.0 0.0 68 1 67]\n",
            " [1.0 0.0 0.0 69 0 53]\n",
            " [0.0 0.0 1.0 70 1 88]\n",
            " [1.0 0.0 0.0 74 2 75]\n",
            " [1.0 0.0 0.0 75 1 72]\n",
            " [1.0 0.0 0.0 76 4 80]\n",
            " [0.0 0.0 1.0 35 0 92]\n",
            " [0.0 0.0 1.0 13 0 94]\n",
            " [1.0 0.0 0.0 82 3 73]\n",
            " [1.0 0.0 0.0 84 3 75]]\n"
          ]
        }
      ]
    },
    {
      "cell_type": "markdown",
      "metadata": {
        "id": "2vBbKI1BUilB"
      },
      "source": [
        "## Splitting into test and training set"
      ]
    },
    {
      "cell_type": "code",
      "source": [
        "from sklearn.model_selection import train_test_split\n",
        "x_train,x_test,y_train,y_test=train_test_split(x,y,test_size=0.6,random_state=0)"
      ],
      "metadata": {
        "id": "1cRK2GFiFj7r"
      },
      "execution_count": 48,
      "outputs": []
    },
    {
      "cell_type": "markdown",
      "metadata": {
        "id": "K6uEL0b5Utac"
      },
      "source": [
        "## Training the Multiple Linear Regression model on the Training set"
      ]
    },
    {
      "cell_type": "code",
      "source": [
        "from sklearn.linear_model import LinearRegression\n",
        "regressor=LinearRegression()\n",
        "regressor.fit(x_train,y_train)"
      ],
      "metadata": {
        "colab": {
          "base_uri": "https://localhost:8080/"
        },
        "id": "3T6NmC8dIfbb",
        "outputId": "d3d58c9c-275a-4566-a57d-b61f1432395a"
      },
      "execution_count": 49,
      "outputs": [
        {
          "output_type": "execute_result",
          "data": {
            "text/plain": [
              "LinearRegression()"
            ]
          },
          "metadata": {},
          "execution_count": 49
        }
      ]
    },
    {
      "cell_type": "markdown",
      "metadata": {
        "id": "RyRva69qUzBK"
      },
      "source": [
        "## Predicting the Test set results"
      ]
    },
    {
      "cell_type": "code",
      "source": [
        "y_pred=regressor.predict(x_test)\n",
        "np.set_printoptions(precision=3)\n",
        "print(np.concatenate((y_pred.reshape(len(y_pred),1),y_test.reshape(len(y_test),1)),1))"
      ],
      "metadata": {
        "colab": {
          "base_uri": "https://localhost:8080/"
        },
        "id": "K7S9kAvmNgSj",
        "outputId": "ef9fd85b-a363-4cb2-84ee-1a18dc054feb"
      },
      "execution_count": 50,
      "outputs": [
        {
          "output_type": "stream",
          "name": "stdout",
          "text": [
            "[[ 96323.641  93010.   ]\n",
            " [ 69157.778  66019.   ]\n",
            " [ 90875.301  91019.   ]\n",
            " [ 61553.113  59994.   ]\n",
            " [ 82007.18   83891.   ]\n",
            " [ 36473.84   46016.   ]\n",
            " [ 28869.175  37914.   ]\n",
            " [ 62981.705  62001.   ]\n",
            " [ 85701.051  90001.   ]\n",
            " [ 42590.062  42099.   ]\n",
            " [ 62768.321  61018.   ]\n",
            " [ 93386.087  93091.   ]\n",
            " [ 84199.296  75012.   ]\n",
            " [ 87840.386  88012.   ]\n",
            " [ 89406.524  90015.   ]\n",
            " [ 72965.86   71191.   ]\n",
            " [ 43257.944  42010.   ]\n",
            " [ 62516.469  67019.   ]\n",
            " [ 61533.448  62019.   ]\n",
            " [105779.273 110911.   ]\n",
            " [ 44867.798  39010.   ]\n",
            " [ 68377.403  61082.   ]\n",
            " [109174.697 111911.   ]\n",
            " [ 75676.71   78004.   ]\n",
            " [102427.406 102019.   ]\n",
            " [ 40260.538  39010.   ]\n",
            " [ 64023.713  62019.   ]\n",
            " [ 83780.452  84008.   ]\n",
            " [103014.917 101000.   ]\n",
            " [ 86147.485  87019.   ]\n",
            " [ 64598.767  50104.   ]\n",
            " [ 70079.23   63091.   ]\n",
            " [ 40159.647  41891.   ]\n",
            " [ 91249.427  91002.   ]\n",
            " [100838.073  99004.   ]\n",
            " [104270.31  112101.   ]\n",
            " [ 96778.139  95202.   ]\n",
            " [ 93933.412  92101.   ]\n",
            " [ 49393.831  52001.   ]\n",
            " [ 88992.212  90124.   ]\n",
            " [ 99582.68   97101.   ]\n",
            " [107034.666 127181.   ]]\n"
          ]
        }
      ]
    },
    {
      "cell_type": "markdown",
      "metadata": {
        "id": "uziF7cmeU4tJ"
      },
      "source": [
        "## Visualizing results"
      ]
    },
    {
      "cell_type": "code",
      "source": [
        "plt.plot(y_pred)\n",
        "plt.plot(y_test)\n",
        "plt.show()"
      ],
      "metadata": {
        "colab": {
          "base_uri": "https://localhost:8080/",
          "height": 265
        },
        "id": "4WeoMSx4SlsP",
        "outputId": "54c31957-e6e5-4e8e-f71e-4161e18b2b19"
      },
      "execution_count": 51,
      "outputs": [
        {
          "output_type": "display_data",
          "data": {
            "text/plain": [
              "<Figure size 432x288 with 1 Axes>"
            ],
            "image/png": "[encoded data removed]"
          },
          "metadata": {
            "needs_background": "light"
          }
        }
      ]
    }
  ]
}